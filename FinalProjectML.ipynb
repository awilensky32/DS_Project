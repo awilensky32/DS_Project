{
  "nbformat": 4,
  "nbformat_minor": 0,
  "metadata": {
    "colab": {
      "provenance": []
    },
    "kernelspec": {
      "name": "python3",
      "display_name": "Python 3"
    },
    "language_info": {
      "name": "python"
    }
  },
  "cells": [
    {
      "cell_type": "markdown",
      "source": [
        "#Content Warning:\n",
        "#### The following project involves discussions of sexual assault/violence and domestic violence. If you or anyone you know is experiencing or has experienced sexual assault/violence or domestic violence, please do not hesitate to reach out for help.\n",
        "\n",
        "#### National Sexual Assault Hotline: 1-800-656-4673\n",
        "\n",
        "#### [Rape, Abuse, and Incest National Network Hotline](https://hotline.rainn.org/online)\n",
        "\n",
        "\n",
        "#### National Domestic Violence Hotline: 1-800-799-7233\n",
        "#### [National Domestic Violence Hotline](https://www.thehotline.org/)"
      ],
      "metadata": {
        "id": "WkC3Ovh-7zyb"
      }
    },
    {
      "cell_type": "markdown",
      "source": [
        "# Imports"
      ],
      "metadata": {
        "id": "F0v5fJWtfqB2"
      }
    },
    {
      "cell_type": "code",
      "execution_count": 11,
      "metadata": {
        "id": "Bj6-ec71fmyI"
      },
      "outputs": [],
      "source": [
        "import pandas as pd\n",
        "import numpy as np\n",
        "import matplotlib.pyplot as plt\n",
        "from sklearn.model_selection import train_test_split\n",
        "from sklearn.metrics import classification_report\n",
        "import warnings\n",
        "\n",
        "# Ignore all warnings\n",
        "warnings.simplefilter(\"ignore\")"
      ]
    },
    {
      "cell_type": "markdown",
      "source": [
        "# Working with Original Data"
      ],
      "metadata": {
        "id": "qXpOSl6wgyPa"
      }
    },
    {
      "cell_type": "code",
      "source": [
        "data = pd.read_csv(\"/content/CrimeData.csv\")\n",
        "data.head()"
      ],
      "metadata": {
        "id": "Rz87toRsgxfw",
        "colab": {
          "base_uri": "https://localhost:8080/",
          "height": 457
        },
        "outputId": "cba55f22-2d51-4c52-bb68-929355149970"
      },
      "execution_count": null,
      "outputs": [
        {
          "output_type": "execute_result",
          "data": {
            "text/plain": [
              "   Incident Number     Highest Offense Description  Highest Offense Code  \\\n",
              "0       2006471156              FAMILY DISTURBANCE                  3400   \n",
              "1      20045044338        TAMPERING WITH ID NUMBER                  2719   \n",
              "2       2006960811              FAMILY DISTURBANCE                  3400   \n",
              "3       2013851154  SEXUAL ASSAULT OF CHILD/OBJECT                  1707   \n",
              "4      20161800084                 RAPE OF A CHILD                   204   \n",
              "\n",
              "  Family Violence      Occurred Date Time Occurred Date  Occurred Time  \\\n",
              "0               N  02/16/2006 02:25:00 PM    02/16/2006         1425.0   \n",
              "1               N  09/14/2004 03:32:00 PM    09/14/2004         1532.0   \n",
              "2               N  04/06/2006 10:29:00 AM    04/06/2006         1029.0   \n",
              "3               Y  01/01/2009 12:01:00 AM    01/01/2009            1.0   \n",
              "4               Y  06/28/2016 01:05:00 AM    06/28/2016          105.0   \n",
              "\n",
              "         Report Date Time Report Date  Report Time  ... Census Tract  \\\n",
              "0  02/16/2006 02:25:00 PM  02/16/2006       1425.0  ...          NaN   \n",
              "1  09/14/2004 03:32:00 PM  09/14/2004       1532.0  ...          NaN   \n",
              "2  04/06/2006 10:29:00 AM  04/06/2006       1029.0  ...          NaN   \n",
              "3  03/26/2013 04:56:00 PM  03/26/2013       1656.0  ...         4.00   \n",
              "4  06/28/2016 01:05:00 AM  06/28/2016        105.0  ...        24.41   \n",
              "\n",
              "  Clearance Status  Clearance Date  UCR Category Category Description  \\\n",
              "0              NaN             NaN           NaN                  NaN   \n",
              "1                N      09/14/2004           NaN                  NaN   \n",
              "2                N      05/01/2006           NaN                  NaN   \n",
              "3                C      04/11/2013           11C                 Rape   \n",
              "4                C      07/01/2016           11A                 Rape   \n",
              "\n",
              "  X-coordinate Y-coordinate  Latitude Longitude Location  \n",
              "0          NaN          NaN       NaN       NaN      NaN  \n",
              "1          NaN          NaN       NaN       NaN      NaN  \n",
              "2          NaN          NaN       NaN       NaN      NaN  \n",
              "3          0.0          0.0       NaN       NaN      NaN  \n",
              "4          0.0          0.0       NaN       NaN      NaN  \n",
              "\n",
              "[5 rows x 27 columns]"
            ],
            "text/html": [
              "\n",
              "  <div id=\"df-53836735-a3e2-4377-b33c-699f3c576875\" class=\"colab-df-container\">\n",
              "    <div>\n",
              "<style scoped>\n",
              "    .dataframe tbody tr th:only-of-type {\n",
              "        vertical-align: middle;\n",
              "    }\n",
              "\n",
              "    .dataframe tbody tr th {\n",
              "        vertical-align: top;\n",
              "    }\n",
              "\n",
              "    .dataframe thead th {\n",
              "        text-align: right;\n",
              "    }\n",
              "</style>\n",
              "<table border=\"1\" class=\"dataframe\">\n",
              "  <thead>\n",
              "    <tr style=\"text-align: right;\">\n",
              "      <th></th>\n",
              "      <th>Incident Number</th>\n",
              "      <th>Highest Offense Description</th>\n",
              "      <th>Highest Offense Code</th>\n",
              "      <th>Family Violence</th>\n",
              "      <th>Occurred Date Time</th>\n",
              "      <th>Occurred Date</th>\n",
              "      <th>Occurred Time</th>\n",
              "      <th>Report Date Time</th>\n",
              "      <th>Report Date</th>\n",
              "      <th>Report Time</th>\n",
              "      <th>...</th>\n",
              "      <th>Census Tract</th>\n",
              "      <th>Clearance Status</th>\n",
              "      <th>Clearance Date</th>\n",
              "      <th>UCR Category</th>\n",
              "      <th>Category Description</th>\n",
              "      <th>X-coordinate</th>\n",
              "      <th>Y-coordinate</th>\n",
              "      <th>Latitude</th>\n",
              "      <th>Longitude</th>\n",
              "      <th>Location</th>\n",
              "    </tr>\n",
              "  </thead>\n",
              "  <tbody>\n",
              "    <tr>\n",
              "      <th>0</th>\n",
              "      <td>2006471156</td>\n",
              "      <td>FAMILY DISTURBANCE</td>\n",
              "      <td>3400</td>\n",
              "      <td>N</td>\n",
              "      <td>02/16/2006 02:25:00 PM</td>\n",
              "      <td>02/16/2006</td>\n",
              "      <td>1425.0</td>\n",
              "      <td>02/16/2006 02:25:00 PM</td>\n",
              "      <td>02/16/2006</td>\n",
              "      <td>1425.0</td>\n",
              "      <td>...</td>\n",
              "      <td>NaN</td>\n",
              "      <td>NaN</td>\n",
              "      <td>NaN</td>\n",
              "      <td>NaN</td>\n",
              "      <td>NaN</td>\n",
              "      <td>NaN</td>\n",
              "      <td>NaN</td>\n",
              "      <td>NaN</td>\n",
              "      <td>NaN</td>\n",
              "      <td>NaN</td>\n",
              "    </tr>\n",
              "    <tr>\n",
              "      <th>1</th>\n",
              "      <td>20045044338</td>\n",
              "      <td>TAMPERING WITH ID NUMBER</td>\n",
              "      <td>2719</td>\n",
              "      <td>N</td>\n",
              "      <td>09/14/2004 03:32:00 PM</td>\n",
              "      <td>09/14/2004</td>\n",
              "      <td>1532.0</td>\n",
              "      <td>09/14/2004 03:32:00 PM</td>\n",
              "      <td>09/14/2004</td>\n",
              "      <td>1532.0</td>\n",
              "      <td>...</td>\n",
              "      <td>NaN</td>\n",
              "      <td>N</td>\n",
              "      <td>09/14/2004</td>\n",
              "      <td>NaN</td>\n",
              "      <td>NaN</td>\n",
              "      <td>NaN</td>\n",
              "      <td>NaN</td>\n",
              "      <td>NaN</td>\n",
              "      <td>NaN</td>\n",
              "      <td>NaN</td>\n",
              "    </tr>\n",
              "    <tr>\n",
              "      <th>2</th>\n",
              "      <td>2006960811</td>\n",
              "      <td>FAMILY DISTURBANCE</td>\n",
              "      <td>3400</td>\n",
              "      <td>N</td>\n",
              "      <td>04/06/2006 10:29:00 AM</td>\n",
              "      <td>04/06/2006</td>\n",
              "      <td>1029.0</td>\n",
              "      <td>04/06/2006 10:29:00 AM</td>\n",
              "      <td>04/06/2006</td>\n",
              "      <td>1029.0</td>\n",
              "      <td>...</td>\n",
              "      <td>NaN</td>\n",
              "      <td>N</td>\n",
              "      <td>05/01/2006</td>\n",
              "      <td>NaN</td>\n",
              "      <td>NaN</td>\n",
              "      <td>NaN</td>\n",
              "      <td>NaN</td>\n",
              "      <td>NaN</td>\n",
              "      <td>NaN</td>\n",
              "      <td>NaN</td>\n",
              "    </tr>\n",
              "    <tr>\n",
              "      <th>3</th>\n",
              "      <td>2013851154</td>\n",
              "      <td>SEXUAL ASSAULT OF CHILD/OBJECT</td>\n",
              "      <td>1707</td>\n",
              "      <td>Y</td>\n",
              "      <td>01/01/2009 12:01:00 AM</td>\n",
              "      <td>01/01/2009</td>\n",
              "      <td>1.0</td>\n",
              "      <td>03/26/2013 04:56:00 PM</td>\n",
              "      <td>03/26/2013</td>\n",
              "      <td>1656.0</td>\n",
              "      <td>...</td>\n",
              "      <td>4.00</td>\n",
              "      <td>C</td>\n",
              "      <td>04/11/2013</td>\n",
              "      <td>11C</td>\n",
              "      <td>Rape</td>\n",
              "      <td>0.0</td>\n",
              "      <td>0.0</td>\n",
              "      <td>NaN</td>\n",
              "      <td>NaN</td>\n",
              "      <td>NaN</td>\n",
              "    </tr>\n",
              "    <tr>\n",
              "      <th>4</th>\n",
              "      <td>20161800084</td>\n",
              "      <td>RAPE OF A CHILD</td>\n",
              "      <td>204</td>\n",
              "      <td>Y</td>\n",
              "      <td>06/28/2016 01:05:00 AM</td>\n",
              "      <td>06/28/2016</td>\n",
              "      <td>105.0</td>\n",
              "      <td>06/28/2016 01:05:00 AM</td>\n",
              "      <td>06/28/2016</td>\n",
              "      <td>105.0</td>\n",
              "      <td>...</td>\n",
              "      <td>24.41</td>\n",
              "      <td>C</td>\n",
              "      <td>07/01/2016</td>\n",
              "      <td>11A</td>\n",
              "      <td>Rape</td>\n",
              "      <td>0.0</td>\n",
              "      <td>0.0</td>\n",
              "      <td>NaN</td>\n",
              "      <td>NaN</td>\n",
              "      <td>NaN</td>\n",
              "    </tr>\n",
              "  </tbody>\n",
              "</table>\n",
              "<p>5 rows × 27 columns</p>\n",
              "</div>\n",
              "    <div class=\"colab-df-buttons\">\n",
              "\n",
              "  <div class=\"colab-df-container\">\n",
              "    <button class=\"colab-df-convert\" onclick=\"convertToInteractive('df-53836735-a3e2-4377-b33c-699f3c576875')\"\n",
              "            title=\"Convert this dataframe to an interactive table.\"\n",
              "            style=\"display:none;\">\n",
              "\n",
              "  <svg xmlns=\"http://www.w3.org/2000/svg\" height=\"24px\" viewBox=\"0 -960 960 960\">\n",
              "    <path d=\"M120-120v-720h720v720H120Zm60-500h600v-160H180v160Zm220 220h160v-160H400v160Zm0 220h160v-160H400v160ZM180-400h160v-160H180v160Zm440 0h160v-160H620v160ZM180-180h160v-160H180v160Zm440 0h160v-160H620v160Z\"/>\n",
              "  </svg>\n",
              "    </button>\n",
              "\n",
              "  <style>\n",
              "    .colab-df-container {\n",
              "      display:flex;\n",
              "      gap: 12px;\n",
              "    }\n",
              "\n",
              "    .colab-df-convert {\n",
              "      background-color: #E8F0FE;\n",
              "      border: none;\n",
              "      border-radius: 50%;\n",
              "      cursor: pointer;\n",
              "      display: none;\n",
              "      fill: #1967D2;\n",
              "      height: 32px;\n",
              "      padding: 0 0 0 0;\n",
              "      width: 32px;\n",
              "    }\n",
              "\n",
              "    .colab-df-convert:hover {\n",
              "      background-color: #E2EBFA;\n",
              "      box-shadow: 0px 1px 2px rgba(60, 64, 67, 0.3), 0px 1px 3px 1px rgba(60, 64, 67, 0.15);\n",
              "      fill: #174EA6;\n",
              "    }\n",
              "\n",
              "    .colab-df-buttons div {\n",
              "      margin-bottom: 4px;\n",
              "    }\n",
              "\n",
              "    [theme=dark] .colab-df-convert {\n",
              "      background-color: #3B4455;\n",
              "      fill: #D2E3FC;\n",
              "    }\n",
              "\n",
              "    [theme=dark] .colab-df-convert:hover {\n",
              "      background-color: #434B5C;\n",
              "      box-shadow: 0px 1px 3px 1px rgba(0, 0, 0, 0.15);\n",
              "      filter: drop-shadow(0px 1px 2px rgba(0, 0, 0, 0.3));\n",
              "      fill: #FFFFFF;\n",
              "    }\n",
              "  </style>\n",
              "\n",
              "    <script>\n",
              "      const buttonEl =\n",
              "        document.querySelector('#df-53836735-a3e2-4377-b33c-699f3c576875 button.colab-df-convert');\n",
              "      buttonEl.style.display =\n",
              "        google.colab.kernel.accessAllowed ? 'block' : 'none';\n",
              "\n",
              "      async function convertToInteractive(key) {\n",
              "        const element = document.querySelector('#df-53836735-a3e2-4377-b33c-699f3c576875');\n",
              "        const dataTable =\n",
              "          await google.colab.kernel.invokeFunction('convertToInteractive',\n",
              "                                                    [key], {});\n",
              "        if (!dataTable) return;\n",
              "\n",
              "        const docLinkHtml = 'Like what you see? Visit the ' +\n",
              "          '<a target=\"_blank\" href=https://colab.research.google.com/notebooks/data_table.ipynb>data table notebook</a>'\n",
              "          + ' to learn more about interactive tables.';\n",
              "        element.innerHTML = '';\n",
              "        dataTable['output_type'] = 'display_data';\n",
              "        await google.colab.output.renderOutput(dataTable, element);\n",
              "        const docLink = document.createElement('div');\n",
              "        docLink.innerHTML = docLinkHtml;\n",
              "        element.appendChild(docLink);\n",
              "      }\n",
              "    </script>\n",
              "  </div>\n",
              "\n",
              "\n",
              "<div id=\"df-82e3f989-cb30-4d5a-b617-f19587e2eba6\">\n",
              "  <button class=\"colab-df-quickchart\" onclick=\"quickchart('df-82e3f989-cb30-4d5a-b617-f19587e2eba6')\"\n",
              "            title=\"Suggest charts\"\n",
              "            style=\"display:none;\">\n",
              "\n",
              "<svg xmlns=\"http://www.w3.org/2000/svg\" height=\"24px\"viewBox=\"0 0 24 24\"\n",
              "     width=\"24px\">\n",
              "    <g>\n",
              "        <path d=\"M19 3H5c-1.1 0-2 .9-2 2v14c0 1.1.9 2 2 2h14c1.1 0 2-.9 2-2V5c0-1.1-.9-2-2-2zM9 17H7v-7h2v7zm4 0h-2V7h2v10zm4 0h-2v-4h2v4z\"/>\n",
              "    </g>\n",
              "</svg>\n",
              "  </button>\n",
              "\n",
              "<style>\n",
              "  .colab-df-quickchart {\n",
              "      --bg-color: #E8F0FE;\n",
              "      --fill-color: #1967D2;\n",
              "      --hover-bg-color: #E2EBFA;\n",
              "      --hover-fill-color: #174EA6;\n",
              "      --disabled-fill-color: #AAA;\n",
              "      --disabled-bg-color: #DDD;\n",
              "  }\n",
              "\n",
              "  [theme=dark] .colab-df-quickchart {\n",
              "      --bg-color: #3B4455;\n",
              "      --fill-color: #D2E3FC;\n",
              "      --hover-bg-color: #434B5C;\n",
              "      --hover-fill-color: #FFFFFF;\n",
              "      --disabled-bg-color: #3B4455;\n",
              "      --disabled-fill-color: #666;\n",
              "  }\n",
              "\n",
              "  .colab-df-quickchart {\n",
              "    background-color: var(--bg-color);\n",
              "    border: none;\n",
              "    border-radius: 50%;\n",
              "    cursor: pointer;\n",
              "    display: none;\n",
              "    fill: var(--fill-color);\n",
              "    height: 32px;\n",
              "    padding: 0;\n",
              "    width: 32px;\n",
              "  }\n",
              "\n",
              "  .colab-df-quickchart:hover {\n",
              "    background-color: var(--hover-bg-color);\n",
              "    box-shadow: 0 1px 2px rgba(60, 64, 67, 0.3), 0 1px 3px 1px rgba(60, 64, 67, 0.15);\n",
              "    fill: var(--button-hover-fill-color);\n",
              "  }\n",
              "\n",
              "  .colab-df-quickchart-complete:disabled,\n",
              "  .colab-df-quickchart-complete:disabled:hover {\n",
              "    background-color: var(--disabled-bg-color);\n",
              "    fill: var(--disabled-fill-color);\n",
              "    box-shadow: none;\n",
              "  }\n",
              "\n",
              "  .colab-df-spinner {\n",
              "    border: 2px solid var(--fill-color);\n",
              "    border-color: transparent;\n",
              "    border-bottom-color: var(--fill-color);\n",
              "    animation:\n",
              "      spin 1s steps(1) infinite;\n",
              "  }\n",
              "\n",
              "  @keyframes spin {\n",
              "    0% {\n",
              "      border-color: transparent;\n",
              "      border-bottom-color: var(--fill-color);\n",
              "      border-left-color: var(--fill-color);\n",
              "    }\n",
              "    20% {\n",
              "      border-color: transparent;\n",
              "      border-left-color: var(--fill-color);\n",
              "      border-top-color: var(--fill-color);\n",
              "    }\n",
              "    30% {\n",
              "      border-color: transparent;\n",
              "      border-left-color: var(--fill-color);\n",
              "      border-top-color: var(--fill-color);\n",
              "      border-right-color: var(--fill-color);\n",
              "    }\n",
              "    40% {\n",
              "      border-color: transparent;\n",
              "      border-right-color: var(--fill-color);\n",
              "      border-top-color: var(--fill-color);\n",
              "    }\n",
              "    60% {\n",
              "      border-color: transparent;\n",
              "      border-right-color: var(--fill-color);\n",
              "    }\n",
              "    80% {\n",
              "      border-color: transparent;\n",
              "      border-right-color: var(--fill-color);\n",
              "      border-bottom-color: var(--fill-color);\n",
              "    }\n",
              "    90% {\n",
              "      border-color: transparent;\n",
              "      border-bottom-color: var(--fill-color);\n",
              "    }\n",
              "  }\n",
              "</style>\n",
              "\n",
              "  <script>\n",
              "    async function quickchart(key) {\n",
              "      const quickchartButtonEl =\n",
              "        document.querySelector('#' + key + ' button');\n",
              "      quickchartButtonEl.disabled = true;  // To prevent multiple clicks.\n",
              "      quickchartButtonEl.classList.add('colab-df-spinner');\n",
              "      try {\n",
              "        const charts = await google.colab.kernel.invokeFunction(\n",
              "            'suggestCharts', [key], {});\n",
              "      } catch (error) {\n",
              "        console.error('Error during call to suggestCharts:', error);\n",
              "      }\n",
              "      quickchartButtonEl.classList.remove('colab-df-spinner');\n",
              "      quickchartButtonEl.classList.add('colab-df-quickchart-complete');\n",
              "    }\n",
              "    (() => {\n",
              "      let quickchartButtonEl =\n",
              "        document.querySelector('#df-82e3f989-cb30-4d5a-b617-f19587e2eba6 button');\n",
              "      quickchartButtonEl.style.display =\n",
              "        google.colab.kernel.accessAllowed ? 'block' : 'none';\n",
              "    })();\n",
              "  </script>\n",
              "</div>\n",
              "    </div>\n",
              "  </div>\n"
            ]
          },
          "metadata": {},
          "execution_count": 5
        }
      ]
    },
    {
      "cell_type": "markdown",
      "source": [
        "Remove Unnecessary Columns and NA Values\n"
      ],
      "metadata": {
        "id": "GPdpiDDpoGzQ"
      }
    },
    {
      "cell_type": "code",
      "source": [
        "data.columns"
      ],
      "metadata": {
        "colab": {
          "base_uri": "https://localhost:8080/"
        },
        "id": "Of3R559NWkAT",
        "outputId": "836a7803-91fe-44e6-9107-ebecfa9680d9"
      },
      "execution_count": null,
      "outputs": [
        {
          "output_type": "execute_result",
          "data": {
            "text/plain": [
              "Index(['Incident Number', 'Highest Offense Description',\n",
              "       'Highest Offense Code', 'Family Violence', 'Occurred Date Time',\n",
              "       'Occurred Date', 'Occurred Time', 'Report Date Time', 'Report Date',\n",
              "       'Report Time', 'Location Type', 'Address', 'Zip Code',\n",
              "       'Council District', 'APD Sector', 'APD District', 'PRA', 'Census Tract',\n",
              "       'Clearance Status', 'Clearance Date', 'UCR Category',\n",
              "       'Category Description', 'X-coordinate', 'Y-coordinate', 'Latitude',\n",
              "       'Longitude', 'Location'],\n",
              "      dtype='object')"
            ]
          },
          "metadata": {},
          "execution_count": 5
        }
      ]
    },
    {
      "cell_type": "code",
      "source": [
        "colsToDelete = ['Clearance Date', 'UCR Category', 'X-coordinate',\n",
        "                'Y-coordinate', 'Location', 'PRA', 'Incident Number', 'Highest Offense Description',\n",
        "                'Occurred Date Time', 'Address', 'Report Date Time', 'Census Tract', 'Report Time',\n",
        "                'Report Date', 'Zip Code']\n",
        "data.drop(columns=colsToDelete, inplace=True)"
      ],
      "metadata": {
        "id": "_nZh1SgVlzoQ"
      },
      "execution_count": null,
      "outputs": []
    },
    {
      "cell_type": "markdown",
      "source": [
        "Remove rows with Nan values"
      ],
      "metadata": {
        "id": "9vADnoZe4Niu"
      }
    },
    {
      "cell_type": "code",
      "source": [
        "data = data.dropna()"
      ],
      "metadata": {
        "id": "8LrFmG_Qn-1k"
      },
      "execution_count": null,
      "outputs": []
    },
    {
      "cell_type": "markdown",
      "source": [
        "Work with data from 2022 to now"
      ],
      "metadata": {
        "id": "zgt5G-n_4X6n"
      }
    },
    {
      "cell_type": "code",
      "source": [
        "year = 2020\n",
        "data[\"Occurred Date\"] = np.array(data[\"Occurred Date\"])\n",
        "data['Occurred Date'] = pd.to_datetime(data['Occurred Date'])\n",
        "data2 = data[data['Occurred Date'].dt.year >= year]"
      ],
      "metadata": {
        "id": "aBK8eBnawCN1"
      },
      "execution_count": null,
      "outputs": []
    },
    {
      "cell_type": "markdown",
      "source": [
        "#### Save Preprocessed Data"
      ],
      "metadata": {
        "id": "7FEKK-TsYwBm"
      }
    },
    {
      "cell_type": "code",
      "source": [
        "data2.to_csv(\"CrimeDataClean.csv\")"
      ],
      "metadata": {
        "id": "VyA7eNqdXLmf"
      },
      "execution_count": null,
      "outputs": []
    },
    {
      "cell_type": "markdown",
      "source": [
        "# Working with Preprocessed Data"
      ],
      "metadata": {
        "id": "XgpyCIU_h1tr"
      }
    },
    {
      "cell_type": "markdown",
      "source": [
        "#### Import Preprocessed Data"
      ],
      "metadata": {
        "id": "B95rYFCDYzQn"
      }
    },
    {
      "cell_type": "code",
      "source": [
        "data = pd.read_csv(\"/content/CrimeDataClean.csv\")\n",
        "data.drop(columns=[\"Unnamed: 0\"], inplace=True)\n",
        "year = 2022\n",
        "data['Occurred Date'] = pd.to_datetime(data['Occurred Date'])\n",
        "data = data[data['Occurred Date'].dt.year >= year]\n",
        "data"
      ],
      "metadata": {
        "colab": {
          "base_uri": "https://localhost:8080/",
          "height": 762
        },
        "id": "t2AL2-TtY25s",
        "outputId": "9808cf44-9134-49a8-bcd4-4c13b7dae6d3"
      },
      "execution_count": null,
      "outputs": [
        {
          "output_type": "execute_result",
          "data": {
            "text/plain": [
              "        Highest Offense Code Family Violence Occurred Date  Occurred Time  \\\n",
              "0                        700               N    2023-06-05         2000.0   \n",
              "1                        601               N    2023-11-06         1553.0   \n",
              "2                        610               N    2023-10-30          735.0   \n",
              "3                       8503               N    2023-09-17         1415.0   \n",
              "4                       8503               N    2023-09-16         1218.0   \n",
              "...                      ...             ...           ...            ...   \n",
              "134460                   601               N    2022-10-02          300.0   \n",
              "134463                   601               N    2022-06-17         1500.0   \n",
              "134468                   614               N    2022-03-12         2200.0   \n",
              "134469                   607               N    2022-10-24         1805.0   \n",
              "134481                   502               N    2022-11-20          230.0   \n",
              "\n",
              "                               Location Type  Council District APD Sector  \\\n",
              "0                  PARKING /DROP LOT/ GARAGE               3.0         DA   \n",
              "1       HWY / ROAD / ALLEY/ STREET/ SIDEWALK               1.0         ID   \n",
              "2                  PARKING /DROP LOT/ GARAGE               3.0         CH   \n",
              "3                       HOTEL / MOTEL / ETC.               9.0         GE   \n",
              "4                           RESIDENCE / HOME               4.0         ED   \n",
              "...                                      ...               ...        ...   \n",
              "134460             PARKING /DROP LOT/ GARAGE              10.0         BA   \n",
              "134463             PARKING /DROP LOT/ GARAGE              10.0         BA   \n",
              "134468             PARKING /DROP LOT/ GARAGE               3.0         HE   \n",
              "134469                 GROCERY / SUPERMARKET               6.0         AD   \n",
              "134481                  HOTEL / MOTEL / ETC.               7.0         AD   \n",
              "\n",
              "       APD District Clearance Status Category Description   Latitude  \\\n",
              "0                 3                N           Auto Theft  30.219033   \n",
              "1                 4                N                Theft  30.307438   \n",
              "2                 2                N                Theft  30.261059   \n",
              "3                 2                N                Theft  30.265065   \n",
              "4                 2                N                Theft  30.356811   \n",
              "...             ...              ...                  ...        ...   \n",
              "134460            8                N                Theft  30.361115   \n",
              "134463            8                N                Theft  30.383110   \n",
              "134468            4                N                Theft  30.231789   \n",
              "134469            8                C                Theft  30.454653   \n",
              "134481            2                N             Burglary  30.406717   \n",
              "\n",
              "        Longitude  \n",
              "0      -97.767189  \n",
              "1      -97.681970  \n",
              "2      -97.712899  \n",
              "3      -97.738629  \n",
              "4      -97.708357  \n",
              "...           ...  \n",
              "134460 -97.749369  \n",
              "134463 -97.769989  \n",
              "134468 -97.718888  \n",
              "134469 -97.825893  \n",
              "134481 -97.712969  \n",
              "\n",
              "[62066 rows x 12 columns]"
            ],
            "text/html": [
              "\n",
              "  <div id=\"df-1a5c97fb-5e75-4db4-a7c7-80a07aa04a64\" class=\"colab-df-container\">\n",
              "    <div>\n",
              "<style scoped>\n",
              "    .dataframe tbody tr th:only-of-type {\n",
              "        vertical-align: middle;\n",
              "    }\n",
              "\n",
              "    .dataframe tbody tr th {\n",
              "        vertical-align: top;\n",
              "    }\n",
              "\n",
              "    .dataframe thead th {\n",
              "        text-align: right;\n",
              "    }\n",
              "</style>\n",
              "<table border=\"1\" class=\"dataframe\">\n",
              "  <thead>\n",
              "    <tr style=\"text-align: right;\">\n",
              "      <th></th>\n",
              "      <th>Highest Offense Code</th>\n",
              "      <th>Family Violence</th>\n",
              "      <th>Occurred Date</th>\n",
              "      <th>Occurred Time</th>\n",
              "      <th>Location Type</th>\n",
              "      <th>Council District</th>\n",
              "      <th>APD Sector</th>\n",
              "      <th>APD District</th>\n",
              "      <th>Clearance Status</th>\n",
              "      <th>Category Description</th>\n",
              "      <th>Latitude</th>\n",
              "      <th>Longitude</th>\n",
              "    </tr>\n",
              "  </thead>\n",
              "  <tbody>\n",
              "    <tr>\n",
              "      <th>0</th>\n",
              "      <td>700</td>\n",
              "      <td>N</td>\n",
              "      <td>2023-06-05</td>\n",
              "      <td>2000.0</td>\n",
              "      <td>PARKING /DROP LOT/ GARAGE</td>\n",
              "      <td>3.0</td>\n",
              "      <td>DA</td>\n",
              "      <td>3</td>\n",
              "      <td>N</td>\n",
              "      <td>Auto Theft</td>\n",
              "      <td>30.219033</td>\n",
              "      <td>-97.767189</td>\n",
              "    </tr>\n",
              "    <tr>\n",
              "      <th>1</th>\n",
              "      <td>601</td>\n",
              "      <td>N</td>\n",
              "      <td>2023-11-06</td>\n",
              "      <td>1553.0</td>\n",
              "      <td>HWY / ROAD / ALLEY/ STREET/ SIDEWALK</td>\n",
              "      <td>1.0</td>\n",
              "      <td>ID</td>\n",
              "      <td>4</td>\n",
              "      <td>N</td>\n",
              "      <td>Theft</td>\n",
              "      <td>30.307438</td>\n",
              "      <td>-97.681970</td>\n",
              "    </tr>\n",
              "    <tr>\n",
              "      <th>2</th>\n",
              "      <td>610</td>\n",
              "      <td>N</td>\n",
              "      <td>2023-10-30</td>\n",
              "      <td>735.0</td>\n",
              "      <td>PARKING /DROP LOT/ GARAGE</td>\n",
              "      <td>3.0</td>\n",
              "      <td>CH</td>\n",
              "      <td>2</td>\n",
              "      <td>N</td>\n",
              "      <td>Theft</td>\n",
              "      <td>30.261059</td>\n",
              "      <td>-97.712899</td>\n",
              "    </tr>\n",
              "    <tr>\n",
              "      <th>3</th>\n",
              "      <td>8503</td>\n",
              "      <td>N</td>\n",
              "      <td>2023-09-17</td>\n",
              "      <td>1415.0</td>\n",
              "      <td>HOTEL / MOTEL / ETC.</td>\n",
              "      <td>9.0</td>\n",
              "      <td>GE</td>\n",
              "      <td>2</td>\n",
              "      <td>N</td>\n",
              "      <td>Theft</td>\n",
              "      <td>30.265065</td>\n",
              "      <td>-97.738629</td>\n",
              "    </tr>\n",
              "    <tr>\n",
              "      <th>4</th>\n",
              "      <td>8503</td>\n",
              "      <td>N</td>\n",
              "      <td>2023-09-16</td>\n",
              "      <td>1218.0</td>\n",
              "      <td>RESIDENCE / HOME</td>\n",
              "      <td>4.0</td>\n",
              "      <td>ED</td>\n",
              "      <td>2</td>\n",
              "      <td>N</td>\n",
              "      <td>Theft</td>\n",
              "      <td>30.356811</td>\n",
              "      <td>-97.708357</td>\n",
              "    </tr>\n",
              "    <tr>\n",
              "      <th>...</th>\n",
              "      <td>...</td>\n",
              "      <td>...</td>\n",
              "      <td>...</td>\n",
              "      <td>...</td>\n",
              "      <td>...</td>\n",
              "      <td>...</td>\n",
              "      <td>...</td>\n",
              "      <td>...</td>\n",
              "      <td>...</td>\n",
              "      <td>...</td>\n",
              "      <td>...</td>\n",
              "      <td>...</td>\n",
              "    </tr>\n",
              "    <tr>\n",
              "      <th>134460</th>\n",
              "      <td>601</td>\n",
              "      <td>N</td>\n",
              "      <td>2022-10-02</td>\n",
              "      <td>300.0</td>\n",
              "      <td>PARKING /DROP LOT/ GARAGE</td>\n",
              "      <td>10.0</td>\n",
              "      <td>BA</td>\n",
              "      <td>8</td>\n",
              "      <td>N</td>\n",
              "      <td>Theft</td>\n",
              "      <td>30.361115</td>\n",
              "      <td>-97.749369</td>\n",
              "    </tr>\n",
              "    <tr>\n",
              "      <th>134463</th>\n",
              "      <td>601</td>\n",
              "      <td>N</td>\n",
              "      <td>2022-06-17</td>\n",
              "      <td>1500.0</td>\n",
              "      <td>PARKING /DROP LOT/ GARAGE</td>\n",
              "      <td>10.0</td>\n",
              "      <td>BA</td>\n",
              "      <td>8</td>\n",
              "      <td>N</td>\n",
              "      <td>Theft</td>\n",
              "      <td>30.383110</td>\n",
              "      <td>-97.769989</td>\n",
              "    </tr>\n",
              "    <tr>\n",
              "      <th>134468</th>\n",
              "      <td>614</td>\n",
              "      <td>N</td>\n",
              "      <td>2022-03-12</td>\n",
              "      <td>2200.0</td>\n",
              "      <td>PARKING /DROP LOT/ GARAGE</td>\n",
              "      <td>3.0</td>\n",
              "      <td>HE</td>\n",
              "      <td>4</td>\n",
              "      <td>N</td>\n",
              "      <td>Theft</td>\n",
              "      <td>30.231789</td>\n",
              "      <td>-97.718888</td>\n",
              "    </tr>\n",
              "    <tr>\n",
              "      <th>134469</th>\n",
              "      <td>607</td>\n",
              "      <td>N</td>\n",
              "      <td>2022-10-24</td>\n",
              "      <td>1805.0</td>\n",
              "      <td>GROCERY / SUPERMARKET</td>\n",
              "      <td>6.0</td>\n",
              "      <td>AD</td>\n",
              "      <td>8</td>\n",
              "      <td>C</td>\n",
              "      <td>Theft</td>\n",
              "      <td>30.454653</td>\n",
              "      <td>-97.825893</td>\n",
              "    </tr>\n",
              "    <tr>\n",
              "      <th>134481</th>\n",
              "      <td>502</td>\n",
              "      <td>N</td>\n",
              "      <td>2022-11-20</td>\n",
              "      <td>230.0</td>\n",
              "      <td>HOTEL / MOTEL / ETC.</td>\n",
              "      <td>7.0</td>\n",
              "      <td>AD</td>\n",
              "      <td>2</td>\n",
              "      <td>N</td>\n",
              "      <td>Burglary</td>\n",
              "      <td>30.406717</td>\n",
              "      <td>-97.712969</td>\n",
              "    </tr>\n",
              "  </tbody>\n",
              "</table>\n",
              "<p>62066 rows × 12 columns</p>\n",
              "</div>\n",
              "    <div class=\"colab-df-buttons\">\n",
              "\n",
              "  <div class=\"colab-df-container\">\n",
              "    <button class=\"colab-df-convert\" onclick=\"convertToInteractive('df-1a5c97fb-5e75-4db4-a7c7-80a07aa04a64')\"\n",
              "            title=\"Convert this dataframe to an interactive table.\"\n",
              "            style=\"display:none;\">\n",
              "\n",
              "  <svg xmlns=\"http://www.w3.org/2000/svg\" height=\"24px\" viewBox=\"0 -960 960 960\">\n",
              "    <path d=\"M120-120v-720h720v720H120Zm60-500h600v-160H180v160Zm220 220h160v-160H400v160Zm0 220h160v-160H400v160ZM180-400h160v-160H180v160Zm440 0h160v-160H620v160ZM180-180h160v-160H180v160Zm440 0h160v-160H620v160Z\"/>\n",
              "  </svg>\n",
              "    </button>\n",
              "\n",
              "  <style>\n",
              "    .colab-df-container {\n",
              "      display:flex;\n",
              "      gap: 12px;\n",
              "    }\n",
              "\n",
              "    .colab-df-convert {\n",
              "      background-color: #E8F0FE;\n",
              "      border: none;\n",
              "      border-radius: 50%;\n",
              "      cursor: pointer;\n",
              "      display: none;\n",
              "      fill: #1967D2;\n",
              "      height: 32px;\n",
              "      padding: 0 0 0 0;\n",
              "      width: 32px;\n",
              "    }\n",
              "\n",
              "    .colab-df-convert:hover {\n",
              "      background-color: #E2EBFA;\n",
              "      box-shadow: 0px 1px 2px rgba(60, 64, 67, 0.3), 0px 1px 3px 1px rgba(60, 64, 67, 0.15);\n",
              "      fill: #174EA6;\n",
              "    }\n",
              "\n",
              "    .colab-df-buttons div {\n",
              "      margin-bottom: 4px;\n",
              "    }\n",
              "\n",
              "    [theme=dark] .colab-df-convert {\n",
              "      background-color: #3B4455;\n",
              "      fill: #D2E3FC;\n",
              "    }\n",
              "\n",
              "    [theme=dark] .colab-df-convert:hover {\n",
              "      background-color: #434B5C;\n",
              "      box-shadow: 0px 1px 3px 1px rgba(0, 0, 0, 0.15);\n",
              "      filter: drop-shadow(0px 1px 2px rgba(0, 0, 0, 0.3));\n",
              "      fill: #FFFFFF;\n",
              "    }\n",
              "  </style>\n",
              "\n",
              "    <script>\n",
              "      const buttonEl =\n",
              "        document.querySelector('#df-1a5c97fb-5e75-4db4-a7c7-80a07aa04a64 button.colab-df-convert');\n",
              "      buttonEl.style.display =\n",
              "        google.colab.kernel.accessAllowed ? 'block' : 'none';\n",
              "\n",
              "      async function convertToInteractive(key) {\n",
              "        const element = document.querySelector('#df-1a5c97fb-5e75-4db4-a7c7-80a07aa04a64');\n",
              "        const dataTable =\n",
              "          await google.colab.kernel.invokeFunction('convertToInteractive',\n",
              "                                                    [key], {});\n",
              "        if (!dataTable) return;\n",
              "\n",
              "        const docLinkHtml = 'Like what you see? Visit the ' +\n",
              "          '<a target=\"_blank\" href=https://colab.research.google.com/notebooks/data_table.ipynb>data table notebook</a>'\n",
              "          + ' to learn more about interactive tables.';\n",
              "        element.innerHTML = '';\n",
              "        dataTable['output_type'] = 'display_data';\n",
              "        await google.colab.output.renderOutput(dataTable, element);\n",
              "        const docLink = document.createElement('div');\n",
              "        docLink.innerHTML = docLinkHtml;\n",
              "        element.appendChild(docLink);\n",
              "      }\n",
              "    </script>\n",
              "  </div>\n",
              "\n",
              "\n",
              "<div id=\"df-d601ee2e-13ec-46a2-9fee-589476ba110e\">\n",
              "  <button class=\"colab-df-quickchart\" onclick=\"quickchart('df-d601ee2e-13ec-46a2-9fee-589476ba110e')\"\n",
              "            title=\"Suggest charts\"\n",
              "            style=\"display:none;\">\n",
              "\n",
              "<svg xmlns=\"http://www.w3.org/2000/svg\" height=\"24px\"viewBox=\"0 0 24 24\"\n",
              "     width=\"24px\">\n",
              "    <g>\n",
              "        <path d=\"M19 3H5c-1.1 0-2 .9-2 2v14c0 1.1.9 2 2 2h14c1.1 0 2-.9 2-2V5c0-1.1-.9-2-2-2zM9 17H7v-7h2v7zm4 0h-2V7h2v10zm4 0h-2v-4h2v4z\"/>\n",
              "    </g>\n",
              "</svg>\n",
              "  </button>\n",
              "\n",
              "<style>\n",
              "  .colab-df-quickchart {\n",
              "      --bg-color: #E8F0FE;\n",
              "      --fill-color: #1967D2;\n",
              "      --hover-bg-color: #E2EBFA;\n",
              "      --hover-fill-color: #174EA6;\n",
              "      --disabled-fill-color: #AAA;\n",
              "      --disabled-bg-color: #DDD;\n",
              "  }\n",
              "\n",
              "  [theme=dark] .colab-df-quickchart {\n",
              "      --bg-color: #3B4455;\n",
              "      --fill-color: #D2E3FC;\n",
              "      --hover-bg-color: #434B5C;\n",
              "      --hover-fill-color: #FFFFFF;\n",
              "      --disabled-bg-color: #3B4455;\n",
              "      --disabled-fill-color: #666;\n",
              "  }\n",
              "\n",
              "  .colab-df-quickchart {\n",
              "    background-color: var(--bg-color);\n",
              "    border: none;\n",
              "    border-radius: 50%;\n",
              "    cursor: pointer;\n",
              "    display: none;\n",
              "    fill: var(--fill-color);\n",
              "    height: 32px;\n",
              "    padding: 0;\n",
              "    width: 32px;\n",
              "  }\n",
              "\n",
              "  .colab-df-quickchart:hover {\n",
              "    background-color: var(--hover-bg-color);\n",
              "    box-shadow: 0 1px 2px rgba(60, 64, 67, 0.3), 0 1px 3px 1px rgba(60, 64, 67, 0.15);\n",
              "    fill: var(--button-hover-fill-color);\n",
              "  }\n",
              "\n",
              "  .colab-df-quickchart-complete:disabled,\n",
              "  .colab-df-quickchart-complete:disabled:hover {\n",
              "    background-color: var(--disabled-bg-color);\n",
              "    fill: var(--disabled-fill-color);\n",
              "    box-shadow: none;\n",
              "  }\n",
              "\n",
              "  .colab-df-spinner {\n",
              "    border: 2px solid var(--fill-color);\n",
              "    border-color: transparent;\n",
              "    border-bottom-color: var(--fill-color);\n",
              "    animation:\n",
              "      spin 1s steps(1) infinite;\n",
              "  }\n",
              "\n",
              "  @keyframes spin {\n",
              "    0% {\n",
              "      border-color: transparent;\n",
              "      border-bottom-color: var(--fill-color);\n",
              "      border-left-color: var(--fill-color);\n",
              "    }\n",
              "    20% {\n",
              "      border-color: transparent;\n",
              "      border-left-color: var(--fill-color);\n",
              "      border-top-color: var(--fill-color);\n",
              "    }\n",
              "    30% {\n",
              "      border-color: transparent;\n",
              "      border-left-color: var(--fill-color);\n",
              "      border-top-color: var(--fill-color);\n",
              "      border-right-color: var(--fill-color);\n",
              "    }\n",
              "    40% {\n",
              "      border-color: transparent;\n",
              "      border-right-color: var(--fill-color);\n",
              "      border-top-color: var(--fill-color);\n",
              "    }\n",
              "    60% {\n",
              "      border-color: transparent;\n",
              "      border-right-color: var(--fill-color);\n",
              "    }\n",
              "    80% {\n",
              "      border-color: transparent;\n",
              "      border-right-color: var(--fill-color);\n",
              "      border-bottom-color: var(--fill-color);\n",
              "    }\n",
              "    90% {\n",
              "      border-color: transparent;\n",
              "      border-bottom-color: var(--fill-color);\n",
              "    }\n",
              "  }\n",
              "</style>\n",
              "\n",
              "  <script>\n",
              "    async function quickchart(key) {\n",
              "      const quickchartButtonEl =\n",
              "        document.querySelector('#' + key + ' button');\n",
              "      quickchartButtonEl.disabled = true;  // To prevent multiple clicks.\n",
              "      quickchartButtonEl.classList.add('colab-df-spinner');\n",
              "      try {\n",
              "        const charts = await google.colab.kernel.invokeFunction(\n",
              "            'suggestCharts', [key], {});\n",
              "      } catch (error) {\n",
              "        console.error('Error during call to suggestCharts:', error);\n",
              "      }\n",
              "      quickchartButtonEl.classList.remove('colab-df-spinner');\n",
              "      quickchartButtonEl.classList.add('colab-df-quickchart-complete');\n",
              "    }\n",
              "    (() => {\n",
              "      let quickchartButtonEl =\n",
              "        document.querySelector('#df-d601ee2e-13ec-46a2-9fee-589476ba110e button');\n",
              "      quickchartButtonEl.style.display =\n",
              "        google.colab.kernel.accessAllowed ? 'block' : 'none';\n",
              "    })();\n",
              "  </script>\n",
              "</div>\n",
              "    </div>\n",
              "  </div>\n"
            ]
          },
          "metadata": {},
          "execution_count": 12
        }
      ]
    },
    {
      "cell_type": "markdown",
      "source": [
        "Create class with methods for encoding data"
      ],
      "metadata": {
        "id": "7-Ppo9G24bPr"
      }
    },
    {
      "cell_type": "code",
      "source": [
        "class Encoding:\n",
        "\n",
        "  def __init__(self, data):\n",
        "    self.data = data\n",
        "\n",
        "  def binaryEncoding(self, col, zeroLabel, oneLabel, data=None):\n",
        "    if data is None:\n",
        "      data = self.data\n",
        "    encodedCol = []\n",
        "    for item in data[col]:\n",
        "      if item.upper() == oneLabel.upper():\n",
        "        encodedCol.append(1)\n",
        "      else:\n",
        "        encodedCol.append(0)\n",
        "    data[col + \" (0, 1)\"] = encodedCol\n",
        "    data.drop(columns = [col], inplace=True)\n",
        "    return data\n",
        "\n",
        "\n",
        "  '''Helper function; used to determine the index at which\n",
        "  the element passed through is at in the uniqueVals array'''\n",
        "  def multiLabelOneHotEncodingHelper(self, element, uniqueVals):\n",
        "    for i in range(len(uniqueVals)):\n",
        "      if uniqueVals[i] == element:\n",
        "        return i\n",
        "\n",
        "\n",
        "  def multiLabelOneHotEncoding(self, col, data=None):\n",
        "    if data is None:\n",
        "      data = self.data\n",
        "    '''Initializing a list with all unique column values\n",
        "    and a dictionary with (unique column value)-(newCol pairs)'''\n",
        "    vals = [val for val in data[col].unique()]\n",
        "    labelDict = {}\n",
        "    for i in range(len(vals)):\n",
        "      labelDict[vals[i]] = []\n",
        "    '''Checking each element in the column.\n",
        "    First check which unique value the element has.\n",
        "    Then the column representing that unique value will get a 1.\n",
        "    All other columns will get a 0'''\n",
        "    for element in data[col]:\n",
        "      index = self.multiLabelOneHotEncodingHelper(element, vals)\n",
        "      labelDict[vals[index]] += [1]\n",
        "      for i in range(len(vals)):\n",
        "        if i != index:\n",
        "          labelDict[vals[i]] += [0]\n",
        "    for i in range(len(vals)):\n",
        "      data[col + '_' + str(vals[i])] = labelDict[vals[i]]\n",
        "    data.drop(columns=[col], inplace=True)\n",
        "    return data\n",
        "\n",
        "  def multiLabelEncoding(self, col, data=None):\n",
        "    if data is None:\n",
        "      data = self.data\n",
        "    vals = [val for val in data[col].unique()]\n",
        "    valsDict = {}\n",
        "    for i in range(len(vals)):\n",
        "      valsDict[vals[i]] = i\n",
        "    encodedCol = []\n",
        "    for item in data[col]:\n",
        "      encodedCol.append(valsDict[item])\n",
        "    data[col + \" Encoded\"] = encodedCol\n",
        "    data.drop(columns=[col], inplace=True)\n",
        "    return data, valsDict\n",
        "\n",
        "  def encodingTime(self, col, data=None):\n",
        "    if data is None:\n",
        "      data = self.data\n",
        "    minVal = float('inf')\n",
        "    maxVal = 0\n",
        "    for time in data[col]:\n",
        "      if time > maxVal:\n",
        "        maxVal = time\n",
        "      elif time < minVal:\n",
        "        minVal = time\n",
        "    den = maxVal - minVal\n",
        "    normalizedCol = []\n",
        "    for time in data[col]:\n",
        "      normalizedCol.append((time - minVal)/den)\n",
        "    data[col + \" Encoded\"] = normalizedCol\n",
        "    data.drop(columns=[col], inplace=True)\n",
        "    return data\n",
        "\n",
        "\n",
        "  def minMaxScaling(self, col, data=None):\n",
        "    if data is None:\n",
        "      data = self.data\n",
        "    minVal = float('inf')\n",
        "    maxVal = 0\n",
        "    for val in data[col]:\n",
        "      if val > maxVal:\n",
        "        maxVal = val\n",
        "      elif val < minVal:\n",
        "        minVal = val\n",
        "    den = maxVal - minVal\n",
        "    normalizedCol = []\n",
        "    for val in data[col]:\n",
        "      normalizedCol.append((val - minVal)/den)\n",
        "    data[col + \" MinMaxScaled\"] = normalizedCol\n",
        "    data.drop(columns=[col], inplace=True)\n",
        "    return data\n"
      ],
      "metadata": {
        "id": "XSudPP9CpwVz"
      },
      "execution_count": null,
      "outputs": []
    },
    {
      "cell_type": "markdown",
      "source": [
        "Encode DateTime data"
      ],
      "metadata": {
        "id": "24bQlfYX4pJc"
      }
    },
    {
      "cell_type": "code",
      "source": [
        "dateStr = [str(date) for date in data[\"Occurred Date\"]]\n",
        "monthCol = [int(month[5:7]) for month in dateStr]\n",
        "dayCol = [int(day[8:10]) for day in dateStr]\n",
        "data[\"Occurred Month\"] = monthCol\n",
        "data[\"Occurred Day\"] = dayCol\n",
        "data.drop(columns=[\"Occurred Date\"], inplace=True)"
      ],
      "metadata": {
        "id": "uLuuyBt-17_1"
      },
      "execution_count": null,
      "outputs": []
    },
    {
      "cell_type": "markdown",
      "source": [
        "Encode data for remaining columns"
      ],
      "metadata": {
        "id": "R0_C9nBq4u0d"
      }
    },
    {
      "cell_type": "code",
      "source": [
        "encoding = Encoding(data)\n",
        "data = encoding.minMaxScaling(\"Latitude\")\n",
        "data = encoding.minMaxScaling(\"Longitude\")\n",
        "data = encoding.encodingTime(\"Occurred Time\")\n",
        "data, highestOffenseCodeKey = encoding.multiLabelEncoding(\"Highest Offense Code\")\n",
        "data, locationTypeKey = encoding.multiLabelEncoding(\"Location Type\")\n",
        "data, councilDistrictKey = encoding.multiLabelEncoding(\"Council District\")\n",
        "data, apdSectorKey = encoding.multiLabelEncoding(\"APD Sector\")\n",
        "data, apdDistrictKey = encoding.multiLabelEncoding(\"APD District\")\n",
        "data, clearanceStatusKey = encoding.multiLabelEncoding(\"Clearance Status\")\n",
        "data, categoryDiscriptionKey = encoding.multiLabelEncoding(\"Category Description\")\n",
        "data = encoding.binaryEncoding(\"Family Violence\", zeroLabel='N', oneLabel='Y')\n",
        "data.head()"
      ],
      "metadata": {
        "colab": {
          "base_uri": "https://localhost:8080/",
          "height": 275
        },
        "id": "7avKOowh2ywn",
        "outputId": "d0be1810-14fa-4656-b453-75e0e8c192ba"
      },
      "execution_count": null,
      "outputs": [
        {
          "output_type": "execute_result",
          "data": {
            "text/plain": [
              "   Occurred Month  Occurred Day  Latitude MinMaxScaled  \\\n",
              "0               6             5               0.282774   \n",
              "1              11             6               0.499037   \n",
              "2              10            30               0.385582   \n",
              "3               9            17               0.395381   \n",
              "4               9            16               0.619818   \n",
              "\n",
              "   Longitude MinMaxScaled  Occurred Time Encoded  \\\n",
              "0                0.001629               0.847817   \n",
              "1                0.002499               0.658330   \n",
              "2                0.002183               0.311573   \n",
              "3                0.001921               0.599830   \n",
              "4                0.002230               0.516320   \n",
              "\n",
              "   Highest Offense Code Encoded  Location Type Encoded  \\\n",
              "0                             0                      0   \n",
              "1                             1                      1   \n",
              "2                             2                      0   \n",
              "3                             3                      2   \n",
              "4                             3                      3   \n",
              "\n",
              "   Council District Encoded  APD Sector Encoded  APD District Encoded  \\\n",
              "0                         0                   0                     0   \n",
              "1                         1                   1                     1   \n",
              "2                         0                   2                     2   \n",
              "3                         2                   3                     2   \n",
              "4                         3                   4                     2   \n",
              "\n",
              "   Clearance Status Encoded  Category Description Encoded  \\\n",
              "0                         0                             0   \n",
              "1                         0                             1   \n",
              "2                         0                             1   \n",
              "3                         0                             1   \n",
              "4                         0                             1   \n",
              "\n",
              "   Family Violence(0, 1)  \n",
              "0                      0  \n",
              "1                      0  \n",
              "2                      0  \n",
              "3                      0  \n",
              "4                      0  "
            ],
            "text/html": [
              "\n",
              "  <div id=\"df-29c1251f-73e6-4513-a4b3-2201dc10cf43\" class=\"colab-df-container\">\n",
              "    <div>\n",
              "<style scoped>\n",
              "    .dataframe tbody tr th:only-of-type {\n",
              "        vertical-align: middle;\n",
              "    }\n",
              "\n",
              "    .dataframe tbody tr th {\n",
              "        vertical-align: top;\n",
              "    }\n",
              "\n",
              "    .dataframe thead th {\n",
              "        text-align: right;\n",
              "    }\n",
              "</style>\n",
              "<table border=\"1\" class=\"dataframe\">\n",
              "  <thead>\n",
              "    <tr style=\"text-align: right;\">\n",
              "      <th></th>\n",
              "      <th>Occurred Month</th>\n",
              "      <th>Occurred Day</th>\n",
              "      <th>Latitude MinMaxScaled</th>\n",
              "      <th>Longitude MinMaxScaled</th>\n",
              "      <th>Occurred Time Encoded</th>\n",
              "      <th>Highest Offense Code Encoded</th>\n",
              "      <th>Location Type Encoded</th>\n",
              "      <th>Council District Encoded</th>\n",
              "      <th>APD Sector Encoded</th>\n",
              "      <th>APD District Encoded</th>\n",
              "      <th>Clearance Status Encoded</th>\n",
              "      <th>Category Description Encoded</th>\n",
              "      <th>Family Violence(0, 1)</th>\n",
              "    </tr>\n",
              "  </thead>\n",
              "  <tbody>\n",
              "    <tr>\n",
              "      <th>0</th>\n",
              "      <td>6</td>\n",
              "      <td>5</td>\n",
              "      <td>0.282774</td>\n",
              "      <td>0.001629</td>\n",
              "      <td>0.847817</td>\n",
              "      <td>0</td>\n",
              "      <td>0</td>\n",
              "      <td>0</td>\n",
              "      <td>0</td>\n",
              "      <td>0</td>\n",
              "      <td>0</td>\n",
              "      <td>0</td>\n",
              "      <td>0</td>\n",
              "    </tr>\n",
              "    <tr>\n",
              "      <th>1</th>\n",
              "      <td>11</td>\n",
              "      <td>6</td>\n",
              "      <td>0.499037</td>\n",
              "      <td>0.002499</td>\n",
              "      <td>0.658330</td>\n",
              "      <td>1</td>\n",
              "      <td>1</td>\n",
              "      <td>1</td>\n",
              "      <td>1</td>\n",
              "      <td>1</td>\n",
              "      <td>0</td>\n",
              "      <td>1</td>\n",
              "      <td>0</td>\n",
              "    </tr>\n",
              "    <tr>\n",
              "      <th>2</th>\n",
              "      <td>10</td>\n",
              "      <td>30</td>\n",
              "      <td>0.385582</td>\n",
              "      <td>0.002183</td>\n",
              "      <td>0.311573</td>\n",
              "      <td>2</td>\n",
              "      <td>0</td>\n",
              "      <td>0</td>\n",
              "      <td>2</td>\n",
              "      <td>2</td>\n",
              "      <td>0</td>\n",
              "      <td>1</td>\n",
              "      <td>0</td>\n",
              "    </tr>\n",
              "    <tr>\n",
              "      <th>3</th>\n",
              "      <td>9</td>\n",
              "      <td>17</td>\n",
              "      <td>0.395381</td>\n",
              "      <td>0.001921</td>\n",
              "      <td>0.599830</td>\n",
              "      <td>3</td>\n",
              "      <td>2</td>\n",
              "      <td>2</td>\n",
              "      <td>3</td>\n",
              "      <td>2</td>\n",
              "      <td>0</td>\n",
              "      <td>1</td>\n",
              "      <td>0</td>\n",
              "    </tr>\n",
              "    <tr>\n",
              "      <th>4</th>\n",
              "      <td>9</td>\n",
              "      <td>16</td>\n",
              "      <td>0.619818</td>\n",
              "      <td>0.002230</td>\n",
              "      <td>0.516320</td>\n",
              "      <td>3</td>\n",
              "      <td>3</td>\n",
              "      <td>3</td>\n",
              "      <td>4</td>\n",
              "      <td>2</td>\n",
              "      <td>0</td>\n",
              "      <td>1</td>\n",
              "      <td>0</td>\n",
              "    </tr>\n",
              "  </tbody>\n",
              "</table>\n",
              "</div>\n",
              "    <div class=\"colab-df-buttons\">\n",
              "\n",
              "  <div class=\"colab-df-container\">\n",
              "    <button class=\"colab-df-convert\" onclick=\"convertToInteractive('df-29c1251f-73e6-4513-a4b3-2201dc10cf43')\"\n",
              "            title=\"Convert this dataframe to an interactive table.\"\n",
              "            style=\"display:none;\">\n",
              "\n",
              "  <svg xmlns=\"http://www.w3.org/2000/svg\" height=\"24px\" viewBox=\"0 -960 960 960\">\n",
              "    <path d=\"M120-120v-720h720v720H120Zm60-500h600v-160H180v160Zm220 220h160v-160H400v160Zm0 220h160v-160H400v160ZM180-400h160v-160H180v160Zm440 0h160v-160H620v160ZM180-180h160v-160H180v160Zm440 0h160v-160H620v160Z\"/>\n",
              "  </svg>\n",
              "    </button>\n",
              "\n",
              "  <style>\n",
              "    .colab-df-container {\n",
              "      display:flex;\n",
              "      gap: 12px;\n",
              "    }\n",
              "\n",
              "    .colab-df-convert {\n",
              "      background-color: #E8F0FE;\n",
              "      border: none;\n",
              "      border-radius: 50%;\n",
              "      cursor: pointer;\n",
              "      display: none;\n",
              "      fill: #1967D2;\n",
              "      height: 32px;\n",
              "      padding: 0 0 0 0;\n",
              "      width: 32px;\n",
              "    }\n",
              "\n",
              "    .colab-df-convert:hover {\n",
              "      background-color: #E2EBFA;\n",
              "      box-shadow: 0px 1px 2px rgba(60, 64, 67, 0.3), 0px 1px 3px 1px rgba(60, 64, 67, 0.15);\n",
              "      fill: #174EA6;\n",
              "    }\n",
              "\n",
              "    .colab-df-buttons div {\n",
              "      margin-bottom: 4px;\n",
              "    }\n",
              "\n",
              "    [theme=dark] .colab-df-convert {\n",
              "      background-color: #3B4455;\n",
              "      fill: #D2E3FC;\n",
              "    }\n",
              "\n",
              "    [theme=dark] .colab-df-convert:hover {\n",
              "      background-color: #434B5C;\n",
              "      box-shadow: 0px 1px 3px 1px rgba(0, 0, 0, 0.15);\n",
              "      filter: drop-shadow(0px 1px 2px rgba(0, 0, 0, 0.3));\n",
              "      fill: #FFFFFF;\n",
              "    }\n",
              "  </style>\n",
              "\n",
              "    <script>\n",
              "      const buttonEl =\n",
              "        document.querySelector('#df-29c1251f-73e6-4513-a4b3-2201dc10cf43 button.colab-df-convert');\n",
              "      buttonEl.style.display =\n",
              "        google.colab.kernel.accessAllowed ? 'block' : 'none';\n",
              "\n",
              "      async function convertToInteractive(key) {\n",
              "        const element = document.querySelector('#df-29c1251f-73e6-4513-a4b3-2201dc10cf43');\n",
              "        const dataTable =\n",
              "          await google.colab.kernel.invokeFunction('convertToInteractive',\n",
              "                                                    [key], {});\n",
              "        if (!dataTable) return;\n",
              "\n",
              "        const docLinkHtml = 'Like what you see? Visit the ' +\n",
              "          '<a target=\"_blank\" href=https://colab.research.google.com/notebooks/data_table.ipynb>data table notebook</a>'\n",
              "          + ' to learn more about interactive tables.';\n",
              "        element.innerHTML = '';\n",
              "        dataTable['output_type'] = 'display_data';\n",
              "        await google.colab.output.renderOutput(dataTable, element);\n",
              "        const docLink = document.createElement('div');\n",
              "        docLink.innerHTML = docLinkHtml;\n",
              "        element.appendChild(docLink);\n",
              "      }\n",
              "    </script>\n",
              "  </div>\n",
              "\n",
              "\n",
              "<div id=\"df-17d282da-89c8-47b4-b5c0-190665eadccd\">\n",
              "  <button class=\"colab-df-quickchart\" onclick=\"quickchart('df-17d282da-89c8-47b4-b5c0-190665eadccd')\"\n",
              "            title=\"Suggest charts\"\n",
              "            style=\"display:none;\">\n",
              "\n",
              "<svg xmlns=\"http://www.w3.org/2000/svg\" height=\"24px\"viewBox=\"0 0 24 24\"\n",
              "     width=\"24px\">\n",
              "    <g>\n",
              "        <path d=\"M19 3H5c-1.1 0-2 .9-2 2v14c0 1.1.9 2 2 2h14c1.1 0 2-.9 2-2V5c0-1.1-.9-2-2-2zM9 17H7v-7h2v7zm4 0h-2V7h2v10zm4 0h-2v-4h2v4z\"/>\n",
              "    </g>\n",
              "</svg>\n",
              "  </button>\n",
              "\n",
              "<style>\n",
              "  .colab-df-quickchart {\n",
              "      --bg-color: #E8F0FE;\n",
              "      --fill-color: #1967D2;\n",
              "      --hover-bg-color: #E2EBFA;\n",
              "      --hover-fill-color: #174EA6;\n",
              "      --disabled-fill-color: #AAA;\n",
              "      --disabled-bg-color: #DDD;\n",
              "  }\n",
              "\n",
              "  [theme=dark] .colab-df-quickchart {\n",
              "      --bg-color: #3B4455;\n",
              "      --fill-color: #D2E3FC;\n",
              "      --hover-bg-color: #434B5C;\n",
              "      --hover-fill-color: #FFFFFF;\n",
              "      --disabled-bg-color: #3B4455;\n",
              "      --disabled-fill-color: #666;\n",
              "  }\n",
              "\n",
              "  .colab-df-quickchart {\n",
              "    background-color: var(--bg-color);\n",
              "    border: none;\n",
              "    border-radius: 50%;\n",
              "    cursor: pointer;\n",
              "    display: none;\n",
              "    fill: var(--fill-color);\n",
              "    height: 32px;\n",
              "    padding: 0;\n",
              "    width: 32px;\n",
              "  }\n",
              "\n",
              "  .colab-df-quickchart:hover {\n",
              "    background-color: var(--hover-bg-color);\n",
              "    box-shadow: 0 1px 2px rgba(60, 64, 67, 0.3), 0 1px 3px 1px rgba(60, 64, 67, 0.15);\n",
              "    fill: var(--button-hover-fill-color);\n",
              "  }\n",
              "\n",
              "  .colab-df-quickchart-complete:disabled,\n",
              "  .colab-df-quickchart-complete:disabled:hover {\n",
              "    background-color: var(--disabled-bg-color);\n",
              "    fill: var(--disabled-fill-color);\n",
              "    box-shadow: none;\n",
              "  }\n",
              "\n",
              "  .colab-df-spinner {\n",
              "    border: 2px solid var(--fill-color);\n",
              "    border-color: transparent;\n",
              "    border-bottom-color: var(--fill-color);\n",
              "    animation:\n",
              "      spin 1s steps(1) infinite;\n",
              "  }\n",
              "\n",
              "  @keyframes spin {\n",
              "    0% {\n",
              "      border-color: transparent;\n",
              "      border-bottom-color: var(--fill-color);\n",
              "      border-left-color: var(--fill-color);\n",
              "    }\n",
              "    20% {\n",
              "      border-color: transparent;\n",
              "      border-left-color: var(--fill-color);\n",
              "      border-top-color: var(--fill-color);\n",
              "    }\n",
              "    30% {\n",
              "      border-color: transparent;\n",
              "      border-left-color: var(--fill-color);\n",
              "      border-top-color: var(--fill-color);\n",
              "      border-right-color: var(--fill-color);\n",
              "    }\n",
              "    40% {\n",
              "      border-color: transparent;\n",
              "      border-right-color: var(--fill-color);\n",
              "      border-top-color: var(--fill-color);\n",
              "    }\n",
              "    60% {\n",
              "      border-color: transparent;\n",
              "      border-right-color: var(--fill-color);\n",
              "    }\n",
              "    80% {\n",
              "      border-color: transparent;\n",
              "      border-right-color: var(--fill-color);\n",
              "      border-bottom-color: var(--fill-color);\n",
              "    }\n",
              "    90% {\n",
              "      border-color: transparent;\n",
              "      border-bottom-color: var(--fill-color);\n",
              "    }\n",
              "  }\n",
              "</style>\n",
              "\n",
              "  <script>\n",
              "    async function quickchart(key) {\n",
              "      const quickchartButtonEl =\n",
              "        document.querySelector('#' + key + ' button');\n",
              "      quickchartButtonEl.disabled = true;  // To prevent multiple clicks.\n",
              "      quickchartButtonEl.classList.add('colab-df-spinner');\n",
              "      try {\n",
              "        const charts = await google.colab.kernel.invokeFunction(\n",
              "            'suggestCharts', [key], {});\n",
              "      } catch (error) {\n",
              "        console.error('Error during call to suggestCharts:', error);\n",
              "      }\n",
              "      quickchartButtonEl.classList.remove('colab-df-spinner');\n",
              "      quickchartButtonEl.classList.add('colab-df-quickchart-complete');\n",
              "    }\n",
              "    (() => {\n",
              "      let quickchartButtonEl =\n",
              "        document.querySelector('#df-17d282da-89c8-47b4-b5c0-190665eadccd button');\n",
              "      quickchartButtonEl.style.display =\n",
              "        google.colab.kernel.accessAllowed ? 'block' : 'none';\n",
              "    })();\n",
              "  </script>\n",
              "</div>\n",
              "    </div>\n",
              "  </div>\n"
            ]
          },
          "metadata": {},
          "execution_count": 16
        }
      ]
    },
    {
      "cell_type": "markdown",
      "source": [
        "#### Save Encoded Data"
      ],
      "metadata": {
        "id": "WfwkUpdi7AvS"
      }
    },
    {
      "cell_type": "code",
      "source": [
        "data.to_csv(\"CrimeDataEncoded.csv\")"
      ],
      "metadata": {
        "id": "5Qs3r5Fi7DcK"
      },
      "execution_count": null,
      "outputs": []
    },
    {
      "cell_type": "markdown",
      "source": [
        "#### Import Encoded Data"
      ],
      "metadata": {
        "id": "iM4hcDRm7LYA"
      }
    },
    {
      "cell_type": "code",
      "source": [
        "data = pd.read_csv(\"/content/CrimeDataEncoded.csv\")\n",
        "data.drop(columns=[\"Unnamed: 0\"], inplace=True)\n",
        "data.head()"
      ],
      "metadata": {
        "id": "gygPTCc67PaT",
        "colab": {
          "base_uri": "https://localhost:8080/",
          "height": 275
        },
        "outputId": "06909175-31fb-4824-8ee5-ab0c69dcee0f"
      },
      "execution_count": 2,
      "outputs": [
        {
          "output_type": "execute_result",
          "data": {
            "text/plain": [
              "   Occurred Month  Occurred Day  Latitude MinMaxScaled  \\\n",
              "0               6             5               0.282774   \n",
              "1              11             6               0.499037   \n",
              "2              10            30               0.385582   \n",
              "3               9            17               0.395381   \n",
              "4               9            16               0.619818   \n",
              "\n",
              "   Longitude MinMaxScaled  Occurred Time Encoded  \\\n",
              "0                0.001629               0.847817   \n",
              "1                0.002499               0.658330   \n",
              "2                0.002183               0.311573   \n",
              "3                0.001921               0.599830   \n",
              "4                0.002230               0.516320   \n",
              "\n",
              "   Highest Offense Code Encoded  Location Type Encoded  \\\n",
              "0                             0                      0   \n",
              "1                             1                      1   \n",
              "2                             2                      0   \n",
              "3                             3                      2   \n",
              "4                             3                      3   \n",
              "\n",
              "   Council District Encoded  APD Sector Encoded  APD District Encoded  \\\n",
              "0                         0                   0                     0   \n",
              "1                         1                   1                     1   \n",
              "2                         0                   2                     2   \n",
              "3                         2                   3                     2   \n",
              "4                         3                   4                     2   \n",
              "\n",
              "   Clearance Status Encoded  Category Description Encoded  \\\n",
              "0                         0                             0   \n",
              "1                         0                             1   \n",
              "2                         0                             1   \n",
              "3                         0                             1   \n",
              "4                         0                             1   \n",
              "\n",
              "   Family Violence(0, 1)  \n",
              "0                      0  \n",
              "1                      0  \n",
              "2                      0  \n",
              "3                      0  \n",
              "4                      0  "
            ],
            "text/html": [
              "\n",
              "  <div id=\"df-ef50c891-b0ad-46b7-9745-a91d38671cf9\" class=\"colab-df-container\">\n",
              "    <div>\n",
              "<style scoped>\n",
              "    .dataframe tbody tr th:only-of-type {\n",
              "        vertical-align: middle;\n",
              "    }\n",
              "\n",
              "    .dataframe tbody tr th {\n",
              "        vertical-align: top;\n",
              "    }\n",
              "\n",
              "    .dataframe thead th {\n",
              "        text-align: right;\n",
              "    }\n",
              "</style>\n",
              "<table border=\"1\" class=\"dataframe\">\n",
              "  <thead>\n",
              "    <tr style=\"text-align: right;\">\n",
              "      <th></th>\n",
              "      <th>Occurred Month</th>\n",
              "      <th>Occurred Day</th>\n",
              "      <th>Latitude MinMaxScaled</th>\n",
              "      <th>Longitude MinMaxScaled</th>\n",
              "      <th>Occurred Time Encoded</th>\n",
              "      <th>Highest Offense Code Encoded</th>\n",
              "      <th>Location Type Encoded</th>\n",
              "      <th>Council District Encoded</th>\n",
              "      <th>APD Sector Encoded</th>\n",
              "      <th>APD District Encoded</th>\n",
              "      <th>Clearance Status Encoded</th>\n",
              "      <th>Category Description Encoded</th>\n",
              "      <th>Family Violence(0, 1)</th>\n",
              "    </tr>\n",
              "  </thead>\n",
              "  <tbody>\n",
              "    <tr>\n",
              "      <th>0</th>\n",
              "      <td>6</td>\n",
              "      <td>5</td>\n",
              "      <td>0.282774</td>\n",
              "      <td>0.001629</td>\n",
              "      <td>0.847817</td>\n",
              "      <td>0</td>\n",
              "      <td>0</td>\n",
              "      <td>0</td>\n",
              "      <td>0</td>\n",
              "      <td>0</td>\n",
              "      <td>0</td>\n",
              "      <td>0</td>\n",
              "      <td>0</td>\n",
              "    </tr>\n",
              "    <tr>\n",
              "      <th>1</th>\n",
              "      <td>11</td>\n",
              "      <td>6</td>\n",
              "      <td>0.499037</td>\n",
              "      <td>0.002499</td>\n",
              "      <td>0.658330</td>\n",
              "      <td>1</td>\n",
              "      <td>1</td>\n",
              "      <td>1</td>\n",
              "      <td>1</td>\n",
              "      <td>1</td>\n",
              "      <td>0</td>\n",
              "      <td>1</td>\n",
              "      <td>0</td>\n",
              "    </tr>\n",
              "    <tr>\n",
              "      <th>2</th>\n",
              "      <td>10</td>\n",
              "      <td>30</td>\n",
              "      <td>0.385582</td>\n",
              "      <td>0.002183</td>\n",
              "      <td>0.311573</td>\n",
              "      <td>2</td>\n",
              "      <td>0</td>\n",
              "      <td>0</td>\n",
              "      <td>2</td>\n",
              "      <td>2</td>\n",
              "      <td>0</td>\n",
              "      <td>1</td>\n",
              "      <td>0</td>\n",
              "    </tr>\n",
              "    <tr>\n",
              "      <th>3</th>\n",
              "      <td>9</td>\n",
              "      <td>17</td>\n",
              "      <td>0.395381</td>\n",
              "      <td>0.001921</td>\n",
              "      <td>0.599830</td>\n",
              "      <td>3</td>\n",
              "      <td>2</td>\n",
              "      <td>2</td>\n",
              "      <td>3</td>\n",
              "      <td>2</td>\n",
              "      <td>0</td>\n",
              "      <td>1</td>\n",
              "      <td>0</td>\n",
              "    </tr>\n",
              "    <tr>\n",
              "      <th>4</th>\n",
              "      <td>9</td>\n",
              "      <td>16</td>\n",
              "      <td>0.619818</td>\n",
              "      <td>0.002230</td>\n",
              "      <td>0.516320</td>\n",
              "      <td>3</td>\n",
              "      <td>3</td>\n",
              "      <td>3</td>\n",
              "      <td>4</td>\n",
              "      <td>2</td>\n",
              "      <td>0</td>\n",
              "      <td>1</td>\n",
              "      <td>0</td>\n",
              "    </tr>\n",
              "  </tbody>\n",
              "</table>\n",
              "</div>\n",
              "    <div class=\"colab-df-buttons\">\n",
              "\n",
              "  <div class=\"colab-df-container\">\n",
              "    <button class=\"colab-df-convert\" onclick=\"convertToInteractive('df-ef50c891-b0ad-46b7-9745-a91d38671cf9')\"\n",
              "            title=\"Convert this dataframe to an interactive table.\"\n",
              "            style=\"display:none;\">\n",
              "\n",
              "  <svg xmlns=\"http://www.w3.org/2000/svg\" height=\"24px\" viewBox=\"0 -960 960 960\">\n",
              "    <path d=\"M120-120v-720h720v720H120Zm60-500h600v-160H180v160Zm220 220h160v-160H400v160Zm0 220h160v-160H400v160ZM180-400h160v-160H180v160Zm440 0h160v-160H620v160ZM180-180h160v-160H180v160Zm440 0h160v-160H620v160Z\"/>\n",
              "  </svg>\n",
              "    </button>\n",
              "\n",
              "  <style>\n",
              "    .colab-df-container {\n",
              "      display:flex;\n",
              "      gap: 12px;\n",
              "    }\n",
              "\n",
              "    .colab-df-convert {\n",
              "      background-color: #E8F0FE;\n",
              "      border: none;\n",
              "      border-radius: 50%;\n",
              "      cursor: pointer;\n",
              "      display: none;\n",
              "      fill: #1967D2;\n",
              "      height: 32px;\n",
              "      padding: 0 0 0 0;\n",
              "      width: 32px;\n",
              "    }\n",
              "\n",
              "    .colab-df-convert:hover {\n",
              "      background-color: #E2EBFA;\n",
              "      box-shadow: 0px 1px 2px rgba(60, 64, 67, 0.3), 0px 1px 3px 1px rgba(60, 64, 67, 0.15);\n",
              "      fill: #174EA6;\n",
              "    }\n",
              "\n",
              "    .colab-df-buttons div {\n",
              "      margin-bottom: 4px;\n",
              "    }\n",
              "\n",
              "    [theme=dark] .colab-df-convert {\n",
              "      background-color: #3B4455;\n",
              "      fill: #D2E3FC;\n",
              "    }\n",
              "\n",
              "    [theme=dark] .colab-df-convert:hover {\n",
              "      background-color: #434B5C;\n",
              "      box-shadow: 0px 1px 3px 1px rgba(0, 0, 0, 0.15);\n",
              "      filter: drop-shadow(0px 1px 2px rgba(0, 0, 0, 0.3));\n",
              "      fill: #FFFFFF;\n",
              "    }\n",
              "  </style>\n",
              "\n",
              "    <script>\n",
              "      const buttonEl =\n",
              "        document.querySelector('#df-ef50c891-b0ad-46b7-9745-a91d38671cf9 button.colab-df-convert');\n",
              "      buttonEl.style.display =\n",
              "        google.colab.kernel.accessAllowed ? 'block' : 'none';\n",
              "\n",
              "      async function convertToInteractive(key) {\n",
              "        const element = document.querySelector('#df-ef50c891-b0ad-46b7-9745-a91d38671cf9');\n",
              "        const dataTable =\n",
              "          await google.colab.kernel.invokeFunction('convertToInteractive',\n",
              "                                                    [key], {});\n",
              "        if (!dataTable) return;\n",
              "\n",
              "        const docLinkHtml = 'Like what you see? Visit the ' +\n",
              "          '<a target=\"_blank\" href=https://colab.research.google.com/notebooks/data_table.ipynb>data table notebook</a>'\n",
              "          + ' to learn more about interactive tables.';\n",
              "        element.innerHTML = '';\n",
              "        dataTable['output_type'] = 'display_data';\n",
              "        await google.colab.output.renderOutput(dataTable, element);\n",
              "        const docLink = document.createElement('div');\n",
              "        docLink.innerHTML = docLinkHtml;\n",
              "        element.appendChild(docLink);\n",
              "      }\n",
              "    </script>\n",
              "  </div>\n",
              "\n",
              "\n",
              "<div id=\"df-0918f01e-ebe3-4af5-8d01-964d13b230d5\">\n",
              "  <button class=\"colab-df-quickchart\" onclick=\"quickchart('df-0918f01e-ebe3-4af5-8d01-964d13b230d5')\"\n",
              "            title=\"Suggest charts\"\n",
              "            style=\"display:none;\">\n",
              "\n",
              "<svg xmlns=\"http://www.w3.org/2000/svg\" height=\"24px\"viewBox=\"0 0 24 24\"\n",
              "     width=\"24px\">\n",
              "    <g>\n",
              "        <path d=\"M19 3H5c-1.1 0-2 .9-2 2v14c0 1.1.9 2 2 2h14c1.1 0 2-.9 2-2V5c0-1.1-.9-2-2-2zM9 17H7v-7h2v7zm4 0h-2V7h2v10zm4 0h-2v-4h2v4z\"/>\n",
              "    </g>\n",
              "</svg>\n",
              "  </button>\n",
              "\n",
              "<style>\n",
              "  .colab-df-quickchart {\n",
              "      --bg-color: #E8F0FE;\n",
              "      --fill-color: #1967D2;\n",
              "      --hover-bg-color: #E2EBFA;\n",
              "      --hover-fill-color: #174EA6;\n",
              "      --disabled-fill-color: #AAA;\n",
              "      --disabled-bg-color: #DDD;\n",
              "  }\n",
              "\n",
              "  [theme=dark] .colab-df-quickchart {\n",
              "      --bg-color: #3B4455;\n",
              "      --fill-color: #D2E3FC;\n",
              "      --hover-bg-color: #434B5C;\n",
              "      --hover-fill-color: #FFFFFF;\n",
              "      --disabled-bg-color: #3B4455;\n",
              "      --disabled-fill-color: #666;\n",
              "  }\n",
              "\n",
              "  .colab-df-quickchart {\n",
              "    background-color: var(--bg-color);\n",
              "    border: none;\n",
              "    border-radius: 50%;\n",
              "    cursor: pointer;\n",
              "    display: none;\n",
              "    fill: var(--fill-color);\n",
              "    height: 32px;\n",
              "    padding: 0;\n",
              "    width: 32px;\n",
              "  }\n",
              "\n",
              "  .colab-df-quickchart:hover {\n",
              "    background-color: var(--hover-bg-color);\n",
              "    box-shadow: 0 1px 2px rgba(60, 64, 67, 0.3), 0 1px 3px 1px rgba(60, 64, 67, 0.15);\n",
              "    fill: var(--button-hover-fill-color);\n",
              "  }\n",
              "\n",
              "  .colab-df-quickchart-complete:disabled,\n",
              "  .colab-df-quickchart-complete:disabled:hover {\n",
              "    background-color: var(--disabled-bg-color);\n",
              "    fill: var(--disabled-fill-color);\n",
              "    box-shadow: none;\n",
              "  }\n",
              "\n",
              "  .colab-df-spinner {\n",
              "    border: 2px solid var(--fill-color);\n",
              "    border-color: transparent;\n",
              "    border-bottom-color: var(--fill-color);\n",
              "    animation:\n",
              "      spin 1s steps(1) infinite;\n",
              "  }\n",
              "\n",
              "  @keyframes spin {\n",
              "    0% {\n",
              "      border-color: transparent;\n",
              "      border-bottom-color: var(--fill-color);\n",
              "      border-left-color: var(--fill-color);\n",
              "    }\n",
              "    20% {\n",
              "      border-color: transparent;\n",
              "      border-left-color: var(--fill-color);\n",
              "      border-top-color: var(--fill-color);\n",
              "    }\n",
              "    30% {\n",
              "      border-color: transparent;\n",
              "      border-left-color: var(--fill-color);\n",
              "      border-top-color: var(--fill-color);\n",
              "      border-right-color: var(--fill-color);\n",
              "    }\n",
              "    40% {\n",
              "      border-color: transparent;\n",
              "      border-right-color: var(--fill-color);\n",
              "      border-top-color: var(--fill-color);\n",
              "    }\n",
              "    60% {\n",
              "      border-color: transparent;\n",
              "      border-right-color: var(--fill-color);\n",
              "    }\n",
              "    80% {\n",
              "      border-color: transparent;\n",
              "      border-right-color: var(--fill-color);\n",
              "      border-bottom-color: var(--fill-color);\n",
              "    }\n",
              "    90% {\n",
              "      border-color: transparent;\n",
              "      border-bottom-color: var(--fill-color);\n",
              "    }\n",
              "  }\n",
              "</style>\n",
              "\n",
              "  <script>\n",
              "    async function quickchart(key) {\n",
              "      const quickchartButtonEl =\n",
              "        document.querySelector('#' + key + ' button');\n",
              "      quickchartButtonEl.disabled = true;  // To prevent multiple clicks.\n",
              "      quickchartButtonEl.classList.add('colab-df-spinner');\n",
              "      try {\n",
              "        const charts = await google.colab.kernel.invokeFunction(\n",
              "            'suggestCharts', [key], {});\n",
              "      } catch (error) {\n",
              "        console.error('Error during call to suggestCharts:', error);\n",
              "      }\n",
              "      quickchartButtonEl.classList.remove('colab-df-spinner');\n",
              "      quickchartButtonEl.classList.add('colab-df-quickchart-complete');\n",
              "    }\n",
              "    (() => {\n",
              "      let quickchartButtonEl =\n",
              "        document.querySelector('#df-0918f01e-ebe3-4af5-8d01-964d13b230d5 button');\n",
              "      quickchartButtonEl.style.display =\n",
              "        google.colab.kernel.accessAllowed ? 'block' : 'none';\n",
              "    })();\n",
              "  </script>\n",
              "</div>\n",
              "    </div>\n",
              "  </div>\n"
            ]
          },
          "metadata": {},
          "execution_count": 2
        }
      ]
    },
    {
      "cell_type": "markdown",
      "source": [
        "# Data Spliting"
      ],
      "metadata": {
        "id": "B3utdQPA4Aka"
      }
    },
    {
      "cell_type": "code",
      "source": [
        "X = data[data.columns[:-1]].values\n",
        "y = data[data.columns[-1]].values\n",
        "X_train, X_test, y_train, y_test = train_test_split(X, y, test_size=0.2, random_state=42)"
      ],
      "metadata": {
        "id": "X8TKfklD3610"
      },
      "execution_count": 3,
      "outputs": []
    },
    {
      "cell_type": "markdown",
      "source": [
        "# Machine Learning"
      ],
      "metadata": {
        "id": "O-20vkuU6E5V"
      }
    },
    {
      "cell_type": "markdown",
      "source": [
        "###Imports for Model Metrics"
      ],
      "metadata": {
        "id": "3YHNOBnKNAVh"
      }
    },
    {
      "cell_type": "code",
      "source": [
        "from sklearn.metrics import accuracy_score\n",
        "from sklearn.metrics import classification_report"
      ],
      "metadata": {
        "id": "Qi-wYhZVNE7L"
      },
      "execution_count": 22,
      "outputs": []
    },
    {
      "cell_type": "markdown",
      "source": [
        "###Decision Tree Model"
      ],
      "metadata": {
        "id": "YXbgDQKU432l"
      }
    },
    {
      "cell_type": "markdown",
      "source": [
        "####Imports for Decision Tree Model"
      ],
      "metadata": {
        "id": "eKnvspGX4-lQ"
      }
    },
    {
      "cell_type": "code",
      "source": [
        "from sklearn import tree\n",
        "from sklearn.tree import DecisionTreeClassifier\n",
        "from sklearn.tree import plot_tree"
      ],
      "metadata": {
        "id": "sNjANbhD6TZc"
      },
      "execution_count": 21,
      "outputs": []
    },
    {
      "cell_type": "markdown",
      "source": [
        "####Model depth for best test accuracy"
      ],
      "metadata": {
        "id": "r29bSIi_5Bo4"
      }
    },
    {
      "cell_type": "code",
      "source": [
        "def bestDepthForAccuracyDT():\n",
        "  maxAcc, bestDepth = 0, 0\n",
        "  accuracies = []\n",
        "  for i in range(2, 21):\n",
        "    decision_tree = DecisionTreeClassifier(max_depth=i)\n",
        "    decision_tree.fit(X_train, y_train)\n",
        "    y_pred_dt = decision_tree.predict(X_test)\n",
        "    accuracy_dt = accuracy_score(y_test, y_pred_dt)\n",
        "    accuracies.append(round(accuracy_dt, 3))\n",
        "    if accuracy_dt > maxAcc:\n",
        "      maxAcc = accuracy_dt\n",
        "      bestDepth = i\n",
        "  max_depths = np.arange(2, 21)\n",
        "  plt.scatter(max_depths, accuracies)\n",
        "  plt.xlabel(\"Max Depth\")\n",
        "  plt.xticks(np.arange(2, 21))\n",
        "  plt.ylabel(\"Accuracy Scores\")\n",
        "  print(f\"Decision Tree with max depth of {bestDepth} layers has highest accuracy.\")\n",
        "\n",
        "bestDepthForAccuracyDT()"
      ],
      "metadata": {
        "colab": {
          "base_uri": "https://localhost:8080/",
          "height": 466
        },
        "id": "xv1vZzxhd0p2",
        "outputId": "868fdcb3-ac3e-41d2-bac9-a97bbe27a492"
      },
      "execution_count": null,
      "outputs": [
        {
          "output_type": "stream",
          "name": "stdout",
          "text": [
            "Decision Tree with max depth of 6 layers has highest accuracy.\n"
          ]
        },
        {
          "output_type": "display_data",
          "data": {
            "text/plain": [
              "<Figure size 640x480 with 1 Axes>"
            ],
            "image/png": "[encoded data removed]"
          },
          "metadata": {}
        }
      ]
    },
    {
      "cell_type": "code",
      "source": [
        "decision_tree = DecisionTreeClassifier(max_depth=6)\n",
        "decision_tree.fit(X_train, y_train)\n",
        "y_pred_dt = decision_tree.predict(X_test)\n",
        "accuracy_dt = accuracy_score(y_test, y_pred_dt)\n",
        "classification_report_dt = classification_report(y_test, y_pred_dt, target_names=[\"class 0\", \"class 1\"])"
      ],
      "metadata": {
        "id": "gN-iT58J5-wX"
      },
      "execution_count": null,
      "outputs": []
    },
    {
      "cell_type": "markdown",
      "source": [
        "#### Decision Tree Metrics"
      ],
      "metadata": {
        "id": "g_aXxatNclUy"
      }
    },
    {
      "cell_type": "code",
      "source": [
        "print(\"Decision Tree Classifier Classification Report\")\n",
        "print(f\"Decision Tree Classifier Accuracy: {round(accuracy_dt, 2)}\")\n",
        "print(classification_report_dt)"
      ],
      "metadata": {
        "colab": {
          "base_uri": "https://localhost:8080/"
        },
        "id": "eM0_aJn76ZKO",
        "outputId": "b4423f81-ca40-45ac-97d7-5a0d6132bcc2"
      },
      "execution_count": null,
      "outputs": [
        {
          "output_type": "stream",
          "name": "stdout",
          "text": [
            "Decision Tree Classifier Classification Report\n",
            "Decision Tree Classifier Accuracy: 0.99\n",
            "              precision    recall  f1-score   support\n",
            "\n",
            "     class 0       0.99      1.00      0.99     11961\n",
            "     class 1       0.87      0.71      0.78       453\n",
            "\n",
            "    accuracy                           0.99     12414\n",
            "   macro avg       0.93      0.85      0.89     12414\n",
            "weighted avg       0.98      0.99      0.98     12414\n",
            "\n"
          ]
        }
      ]
    },
    {
      "cell_type": "markdown",
      "source": [
        "#### Decision Tree Split Visualization"
      ],
      "metadata": {
        "id": "l2ccvuEzcpZ9"
      }
    },
    {
      "cell_type": "code",
      "source": [
        "features = data.columns[:-1]\n",
        "plt.figure(figsize=(20, 20))\n",
        "plot_tree(decision_tree, feature_names=features, class_names=['class 0', 'class 1'], filled=True, rounded=True)\n",
        "plt.show()"
      ],
      "metadata": {
        "colab": {
          "base_uri": "https://localhost:8080/",
          "height": 1000
        },
        "id": "LnXOoyvgco8g",
        "outputId": "57ac3f38-9777-44f9-99a1-d8fac233cc00"
      },
      "execution_count": null,
      "outputs": [
        {
          "output_type": "display_data",
          "data": {
            "text/plain": [
              "<Figure size 2000x2000 with 1 Axes>"
            ],
            "image/png": "[encoded data removed]"
          },
          "metadata": {}
        }
      ]
    },
    {
      "cell_type": "markdown",
      "source": [
        "### Random Forrest Model"
      ],
      "metadata": {
        "id": "0JxaHR5hGqki"
      }
    },
    {
      "cell_type": "markdown",
      "source": [
        "####Imports for Random Forrest Model"
      ],
      "metadata": {
        "id": "b1OWtwDPHoL-"
      }
    },
    {
      "cell_type": "code",
      "source": [
        "from sklearn.ensemble import RandomForestClassifier\n",
        "from sklearn.datasets import make_classification"
      ],
      "metadata": {
        "id": "JNwe3dULHqJ0"
      },
      "execution_count": 6,
      "outputs": []
    },
    {
      "cell_type": "markdown",
      "source": [
        "####Model depth for best test accuracy"
      ],
      "metadata": {
        "id": "4M6OeFRVJsh7"
      }
    },
    {
      "cell_type": "code",
      "source": [
        "def bestDepthForAccuracyRF():\n",
        "  maxAcc, bestDepth = 0, 0\n",
        "  accuracies = []\n",
        "  for i in range(2, 21):\n",
        "    randomForrest = RandomForestClassifier(max_depth=i)\n",
        "    randomForrest.fit(X_train, y_train)\n",
        "    y_pred_RF = randomForrest.predict(X_test)\n",
        "    accuracy_RF = accuracy_score(y_test, y_pred_RF)\n",
        "    accuracies.append(round(accuracy_RF, 3))\n",
        "    if accuracy_RF > maxAcc:\n",
        "      maxAcc = accuracy_RF\n",
        "      bestDepth = i\n",
        "  max_depths = np.arange(2, 21)\n",
        "  plt.scatter(max_depths, accuracies)\n",
        "  plt.xlabel(\"Max Depth\")\n",
        "  plt.xticks(np.arange(2, 21))\n",
        "  plt.ylabel(\"Accuracy Scores\")\n",
        "  print(f\"Random Forrest with max depth of {bestDepth} layers has highest accuracy.\")\n",
        "\n",
        "bestDepthForAccuracyRF()"
      ],
      "metadata": {
        "colab": {
          "base_uri": "https://localhost:8080/",
          "height": 466
        },
        "id": "EKPld20_IXCF",
        "outputId": "ce923387-93b2-4817-d8b2-34b26009dbf6"
      },
      "execution_count": 14,
      "outputs": [
        {
          "output_type": "stream",
          "name": "stdout",
          "text": [
            "Random Forrest with max depth of 9 layers has highest accuracy.\n"
          ]
        },
        {
          "output_type": "display_data",
          "data": {
            "text/plain": [
              "<Figure size 640x480 with 1 Axes>"
            ],
            "image/png": "[encoded data removed]"
          },
          "metadata": {}
        }
      ]
    },
    {
      "cell_type": "code",
      "source": [
        "randomForrest = RandomForestClassifier(max_depth=9)\n",
        "randomForrest.fit(X_train, y_train)\n",
        "y_pred_RF = randomForrest.predict(X_test)\n",
        "accuracy_RF = accuracy_score(y_test, y_pred_RF)\n",
        "classification_report_RF = classification_report(y_test, y_pred_RF, target_names=[\"class 0\", \"class 1\"])"
      ],
      "metadata": {
        "id": "6Bv9DiNcGuJw"
      },
      "execution_count": 15,
      "outputs": []
    },
    {
      "cell_type": "markdown",
      "source": [
        "#### Random Forrest Metrics"
      ],
      "metadata": {
        "id": "dnvUFDUYJ05q"
      }
    },
    {
      "cell_type": "code",
      "source": [
        "print(\"Random Forrest Classifier Classification Report\")\n",
        "print(f\"Random Forrest Classifier Accuracy: {round(accuracy_RF, 2)}\")\n",
        "print(classification_report_RF)"
      ],
      "metadata": {
        "colab": {
          "base_uri": "https://localhost:8080/"
        },
        "id": "OEpsoEEjIHYN",
        "outputId": "38c46e81-38a8-43c1-8dd2-507fa54a36ee"
      },
      "execution_count": 16,
      "outputs": [
        {
          "output_type": "stream",
          "name": "stdout",
          "text": [
            "Random Forrest Classifier Classification Report\n",
            "Random Forrest Classifier Accuracy: 0.99\n",
            "              precision    recall  f1-score   support\n",
            "\n",
            "     class 0       0.99      1.00      0.99     11961\n",
            "     class 1       0.88      0.70      0.78       453\n",
            "\n",
            "    accuracy                           0.99     12414\n",
            "   macro avg       0.94      0.85      0.89     12414\n",
            "weighted avg       0.98      0.99      0.98     12414\n",
            "\n"
          ]
        }
      ]
    },
    {
      "cell_type": "markdown",
      "source": [
        "###Logistic Regression"
      ],
      "metadata": {
        "id": "Iy0uGv3XJ7Mh"
      }
    },
    {
      "cell_type": "markdown",
      "source": [
        "####Imports for Logistic Regression"
      ],
      "metadata": {
        "id": "4HxU_R0PKI0m"
      }
    },
    {
      "cell_type": "code",
      "source": [
        "from sklearn.linear_model import LogisticRegression"
      ],
      "metadata": {
        "id": "Yykx9Q2fJ6op"
      },
      "execution_count": 17,
      "outputs": []
    },
    {
      "cell_type": "code",
      "source": [
        "logisticRegressionClassifier = LogisticRegression()\n",
        "logisticRegressionClassifier.fit(X_train, y_train)\n",
        "y_pred_LR = logisticRegressionClassifier.predict(X_test)\n",
        "accuracy_LR = accuracy_score(y_test, y_pred_LR)\n",
        "classification_report_LR = classification_report(y_test, y_pred_LR, target_names=[\"class 0\", \"class 1\"])"
      ],
      "metadata": {
        "id": "yfkGsATbKaVL"
      },
      "execution_count": 23,
      "outputs": []
    },
    {
      "cell_type": "markdown",
      "source": [
        "####Logistic Regression Metrics"
      ],
      "metadata": {
        "id": "zoLUcyNbMBNQ"
      }
    },
    {
      "cell_type": "code",
      "source": [
        "print(\"Logistic Regression Classifier Classification Report\")\n",
        "print(f\"Logistic Regression Classifier Accuracy: {round(accuracy_LR, 2)}\")\n",
        "print(classification_report_LR)"
      ],
      "metadata": {
        "colab": {
          "base_uri": "https://localhost:8080/"
        },
        "id": "_bP7-7hWMDbQ",
        "outputId": "84f8e33a-198d-4180-e890-9b4eda342b57"
      },
      "execution_count": 26,
      "outputs": [
        {
          "output_type": "stream",
          "name": "stdout",
          "text": [
            "Logistic Regression Classifier Classification Report\n",
            "Logistic Regression Classifier Accuracy: 0.96\n",
            "              precision    recall  f1-score   support\n",
            "\n",
            "     class 0       0.97      0.99      0.98     11961\n",
            "     class 1       0.55      0.17      0.26       453\n",
            "\n",
            "    accuracy                           0.96     12414\n",
            "   macro avg       0.76      0.58      0.62     12414\n",
            "weighted avg       0.95      0.96      0.96     12414\n",
            "\n"
          ]
        }
      ]
    },
    {
      "cell_type": "markdown",
      "source": [
        "### Naive Bayes Model"
      ],
      "metadata": {
        "id": "kM2e6dEwMngl"
      }
    },
    {
      "cell_type": "markdown",
      "source": [
        "####Imports for Naive Bayes Model"
      ],
      "metadata": {
        "id": "eU_-CGG1MruE"
      }
    },
    {
      "cell_type": "code",
      "source": [
        "from sklearn.naive_bayes import GaussianNB"
      ],
      "metadata": {
        "id": "Or8twZgdMq9H"
      },
      "execution_count": 20,
      "outputs": []
    },
    {
      "cell_type": "code",
      "source": [
        "gnb = GaussianNB()\n",
        "gnb.fit(X_train, y_train)\n",
        "y_pred_NB = gnb.predict(X_test)\n",
        "accuracy_NB = accuracy_score(y_test, y_pred_NB)\n",
        "classification_report_NB = classification_report(y_test, y_pred_NB, target_names=[\"class 0\", \"class 1\"])"
      ],
      "metadata": {
        "id": "fZec3paWNQHB"
      },
      "execution_count": 25,
      "outputs": []
    },
    {
      "cell_type": "markdown",
      "source": [
        "####Naive Bayes Metrics"
      ],
      "metadata": {
        "id": "bIlzI81SN7vK"
      }
    },
    {
      "cell_type": "code",
      "source": [
        "print(\"Naive Bayes Classifier Classification Report\")\n",
        "print(f\"Naive Bayes Classifier Accuracy: {round(accuracy_NB, 2)}\")\n",
        "print(classification_report_NB)"
      ],
      "metadata": {
        "colab": {
          "base_uri": "https://localhost:8080/"
        },
        "id": "iaueNY8UNwdT",
        "outputId": "2d4960e8-fdb9-49e1-c8c3-f25eb2e0785a"
      },
      "execution_count": 27,
      "outputs": [
        {
          "output_type": "stream",
          "name": "stdout",
          "text": [
            "Naive Bayes Classifier Classification Report\n",
            "Naive Bayes Classifier Accuracy: 0.96\n",
            "              precision    recall  f1-score   support\n",
            "\n",
            "     class 0       0.98      0.97      0.98     11961\n",
            "     class 1       0.45      0.60      0.52       453\n",
            "\n",
            "    accuracy                           0.96     12414\n",
            "   macro avg       0.72      0.79      0.75     12414\n",
            "weighted avg       0.97      0.96      0.96     12414\n",
            "\n"
          ]
        }
      ]
    },
    {
      "cell_type": "markdown",
      "source": [
        "###SVM"
      ],
      "metadata": {
        "id": "tHaghG73VpH-"
      }
    },
    {
      "cell_type": "markdown",
      "source": [
        "####Imports for SVM"
      ],
      "metadata": {
        "id": "a-spSldfVqL8"
      }
    },
    {
      "cell_type": "code",
      "source": [
        "from sklearn.svm import SVC"
      ],
      "metadata": {
        "id": "8pQU_9F2Vs7s"
      },
      "execution_count": 40,
      "outputs": []
    },
    {
      "cell_type": "code",
      "source": [
        "svm = SVC(kernel='poly')\n",
        "svm.fit(X_train, y_train)\n",
        "y_pred_svm = svm.predict(X_test)\n",
        "accuracy_svm = accuracy_score(y_test, y_pred_svm)\n",
        "classification_report_svm = classification_report(y_test, y_pred_svm, target_names=[\"class 0\", \"class 1\"])"
      ],
      "metadata": {
        "id": "zhE0MNQmVt46"
      },
      "execution_count": 50,
      "outputs": []
    },
    {
      "cell_type": "markdown",
      "source": [
        "####Metrics For SVM"
      ],
      "metadata": {
        "id": "hn5Is5xdVtEW"
      }
    },
    {
      "cell_type": "code",
      "source": [
        "print(\"SVM Classifier Classification Report\")\n",
        "print(f\"SVM Classifier Accuracy: {round(accuracy_svm, 2)}\")\n",
        "print(classification_report_svm)"
      ],
      "metadata": {
        "colab": {
          "base_uri": "https://localhost:8080/"
        },
        "id": "qxgvzBNrVx3J",
        "outputId": "903e6d5b-7e1c-4426-d925-d061c74bb0bb"
      },
      "execution_count": 51,
      "outputs": [
        {
          "output_type": "stream",
          "name": "stdout",
          "text": [
            "SVM Classifier Classification Report\n",
            "SVM Classifier Accuracy: 0.97\n",
            "              precision    recall  f1-score   support\n",
            "\n",
            "     class 0       0.97      1.00      0.98     11961\n",
            "     class 1       0.80      0.23      0.36       453\n",
            "\n",
            "    accuracy                           0.97     12414\n",
            "   macro avg       0.89      0.61      0.67     12414\n",
            "weighted avg       0.97      0.97      0.96     12414\n",
            "\n"
          ]
        }
      ]
    },
    {
      "cell_type": "markdown",
      "source": [
        "###KNN"
      ],
      "metadata": {
        "id": "MV1NanvIVyrq"
      }
    },
    {
      "cell_type": "markdown",
      "source": [
        "####Imports for KNN"
      ],
      "metadata": {
        "id": "ztoHljGtV0jM"
      }
    },
    {
      "cell_type": "code",
      "source": [
        "from sklearn.neighbors import KNeighborsClassifier"
      ],
      "metadata": {
        "id": "XnIISD-jV11Q"
      },
      "execution_count": 43,
      "outputs": []
    },
    {
      "cell_type": "code",
      "source": [
        "knn = KNeighborsClassifier()\n",
        "knn.fit(X_train, y_train)\n",
        "y_pred_knn = knn.predict(X_test)\n",
        "accuracy_knn = accuracy_score(y_test, y_pred_knn)\n",
        "classification_report_knn = classification_report(y_test, y_pred_knn, target_names=[\"class 0\", \"class 1\"])"
      ],
      "metadata": {
        "id": "SVryKPkTV39s"
      },
      "execution_count": 44,
      "outputs": []
    },
    {
      "cell_type": "markdown",
      "source": [
        "####Metrics for KNN"
      ],
      "metadata": {
        "id": "_mtysvRqV4H7"
      }
    },
    {
      "cell_type": "code",
      "source": [
        "print(\"KNN Classifier Classification Report\")\n",
        "print(f\"KNN Classifier Accuracy: {round(accuracy_knn, 2)}\")\n",
        "print(classification_report_knn)"
      ],
      "metadata": {
        "colab": {
          "base_uri": "https://localhost:8080/"
        },
        "id": "WNag6FNfXFVw",
        "outputId": "841166b1-3218-4545-ef51-2add19569cf8"
      },
      "execution_count": 45,
      "outputs": [
        {
          "output_type": "stream",
          "name": "stdout",
          "text": [
            "KNN Classifier Classification Report\n",
            "KNN Classifier Accuracy: 0.97\n",
            "              precision    recall  f1-score   support\n",
            "\n",
            "     class 0       0.98      0.99      0.99     11961\n",
            "     class 1       0.68      0.42      0.52       453\n",
            "\n",
            "    accuracy                           0.97     12414\n",
            "   macro avg       0.83      0.71      0.75     12414\n",
            "weighted avg       0.97      0.97      0.97     12414\n",
            "\n"
          ]
        }
      ]
    },
    {
      "cell_type": "markdown",
      "source": [
        "###Neural Network"
      ],
      "metadata": {
        "id": "o8lsx-zvOWRl"
      }
    },
    {
      "cell_type": "markdown",
      "source": [
        "####Imports for Neural Network"
      ],
      "metadata": {
        "id": "A9xbX3vjOcfM"
      }
    },
    {
      "cell_type": "code",
      "source": [
        "import tensorflow as tf\n",
        "from tensorflow import keras\n",
        "from sklearn.metrics import precision_recall_fscore_support"
      ],
      "metadata": {
        "id": "RjEwdyCEOYrs"
      },
      "execution_count": 38,
      "outputs": []
    },
    {
      "cell_type": "markdown",
      "source": [
        "#### Neural Network Training and Metrics"
      ],
      "metadata": {
        "id": "yyLQ_alOVjkO"
      }
    },
    {
      "cell_type": "code",
      "source": [
        "def neuralNetwork(X_train, y_train, X_test, y_test, num_nodes, dropout_prob, lr, epochs, batch_size):\n",
        "  nn_model = tf.keras.Sequential([\n",
        "      tf.keras.layers.Dense(num_nodes, activation=\"sigmoid\", input_shape=(12,)),\n",
        "      tf.keras.layers.Dense(num_nodes // 2, activation='sigmoid'),\n",
        "      tf.keras.layers.Dropout(dropout_prob),\n",
        "      tf.keras.layers.Dense(num_nodes // 4, activation='sigmoid'),\n",
        "      tf.keras.layers.Dense(1, activation='sigmoid')\n",
        "  ])\n",
        "\n",
        "  nn_model.compile(optimizer=tf.keras.optimizers.Adam(lr), loss='binary_crossentropy', metrics=['accuracy', tf.keras.metrics.Precision(), tf.keras.metrics.Recall()])\n",
        "\n",
        "  history = nn_model.fit(X_train, y_train, epochs=epochs, batch_size=batch_size, validation_split=0.2, verbose=0)\n",
        "\n",
        "  y_pred = nn_model.predict(X_test)\n",
        "  y_pred_classes = (y_pred > 0.5).astype(int)\n",
        "\n",
        "  accuracy = history.history['accuracy'][-1]\n",
        "\n",
        "  precision, recall, f1_score, _ = precision_recall_fscore_support(y_test, y_pred_classes, average=None)\n",
        "\n",
        "  print(\"Neural Network Classification Report:\")\n",
        "  print(f\"  Neural Network Accuracy: {round(accuracy, 2)}\")\n",
        "  print(\"             Precision     Recall      F1 Score\")\n",
        "  print(f\"Class 0      {round(precision[0], 2): <12} {round(recall[0], 2): <12} {round(f1_score[0], 2): <12} \")\n",
        "  print(f\"Class 1      {round(precision[1], 2): <12} {round(recall[1], 2): <12} {round(f1_score[1], 2): <12} \")\n",
        "  return nn_model, history, accuracy, precision, recall, f1_score\n",
        "\n",
        "\n",
        "\n",
        "NUM_NODES, DROPOUT_PROB, LR, EPOCHS, BATCH_SIZE = 64, 0.2, 0.001, 100, 64\n",
        "\n",
        "neuralNetwork(X_train, y_train, X_test, y_test, num_nodes=NUM_NODES, dropout_prob=DROPOUT_PROB, lr=LR, epochs=EPOCHS, batch_size=BATCH_SIZE);\n"
      ],
      "metadata": {
        "colab": {
          "base_uri": "https://localhost:8080/"
        },
        "id": "uQPib_NyOuev",
        "outputId": "20723b3a-9086-4ec7-dcb3-3ae23eec13b8"
      },
      "execution_count": 57,
      "outputs": [
        {
          "output_type": "stream",
          "name": "stdout",
          "text": [
            "388/388 [==============================] - 1s 2ms/step\n",
            "Neural Network Classification Report:\n",
            "  Neural Network Accuracy: 0.98\n",
            "             Precision     Recall      F1 Score\n",
            "Class 0      0.98         1.0          0.99         \n",
            "Class 1      0.83         0.59         0.69         \n"
          ]
        }
      ]
    },
    {
      "cell_type": "markdown",
      "source": [
        "# Hypotheses\n",
        "### Since the Decision Tree Classifier seemed to have a high precision and recall for both classes and is easily interpretable, our hypotheses will be answered using the Decision Tree Classifier."
      ],
      "metadata": {
        "id": "0Fq7T5L4Y2fU"
      }
    },
    {
      "cell_type": "markdown",
      "source": [
        "#### Feature Selection from Decision Tree Classifier Model"
      ],
      "metadata": {
        "id": "G0gZvevZYiqv"
      }
    },
    {
      "cell_type": "code",
      "source": [
        "!pip install shap\n",
        "import shap"
      ],
      "metadata": {
        "colab": {
          "base_uri": "https://localhost:8080/"
        },
        "id": "-suIK3BeYlW-",
        "outputId": "74359b24-20f4-4160-af20-49019837950d"
      },
      "execution_count": null,
      "outputs": [
        {
          "output_type": "stream",
          "name": "stdout",
          "text": [
            "Collecting shap\n",
            "  Downloading shap-0.43.0-cp310-cp310-manylinux_2_12_x86_64.manylinux2010_x86_64.manylinux_2_17_x86_64.manylinux2014_x86_64.whl (532 kB)\n",
            "\u001b[2K     \u001b[90m━━━━━━━━━━━━━━━━━━━━━━━━━━━━━━━━━━━━━━━━\u001b[0m \u001b[32m532.9/532.9 kB\u001b[0m \u001b[31m7.2 MB/s\u001b[0m eta \u001b[36m0:00:00\u001b[0m\n",
            "\u001b[?25hRequirement already satisfied: numpy in /usr/local/lib/python3.10/dist-packages (from shap) (1.23.5)\n",
            "Requirement already satisfied: scipy in /usr/local/lib/python3.10/dist-packages (from shap) (1.11.3)\n",
            "Requirement already satisfied: scikit-learn in /usr/local/lib/python3.10/dist-packages (from shap) (1.2.2)\n",
            "Requirement already satisfied: pandas in /usr/local/lib/python3.10/dist-packages (from shap) (1.5.3)\n",
            "Requirement already satisfied: tqdm>=4.27.0 in /usr/local/lib/python3.10/dist-packages (from shap) (4.66.1)\n",
            "Requirement already satisfied: packaging>20.9 in /usr/local/lib/python3.10/dist-packages (from shap) (23.2)\n",
            "Collecting slicer==0.0.7 (from shap)\n",
            "  Downloading slicer-0.0.7-py3-none-any.whl (14 kB)\n",
            "Requirement already satisfied: numba in /usr/local/lib/python3.10/dist-packages (from shap) (0.58.1)\n",
            "Requirement already satisfied: cloudpickle in /usr/local/lib/python3.10/dist-packages (from shap) (2.2.1)\n",
            "Requirement already satisfied: llvmlite<0.42,>=0.41.0dev0 in /usr/local/lib/python3.10/dist-packages (from numba->shap) (0.41.1)\n",
            "Requirement already satisfied: python-dateutil>=2.8.1 in /usr/local/lib/python3.10/dist-packages (from pandas->shap) (2.8.2)\n",
            "Requirement already satisfied: pytz>=2020.1 in /usr/local/lib/python3.10/dist-packages (from pandas->shap) (2023.3.post1)\n",
            "Requirement already satisfied: joblib>=1.1.1 in /usr/local/lib/python3.10/dist-packages (from scikit-learn->shap) (1.3.2)\n",
            "Requirement already satisfied: threadpoolctl>=2.0.0 in /usr/local/lib/python3.10/dist-packages (from scikit-learn->shap) (3.2.0)\n",
            "Requirement already satisfied: six>=1.5 in /usr/local/lib/python3.10/dist-packages (from python-dateutil>=2.8.1->pandas->shap) (1.16.0)\n",
            "Installing collected packages: slicer, shap\n",
            "Successfully installed shap-0.43.0 slicer-0.0.7\n"
          ]
        }
      ]
    },
    {
      "cell_type": "code",
      "source": [
        "explainer = shap.Explainer(decision_tree)\n",
        "shap_values = explainer.shap_values(X[::200])\n",
        "shap.summary_plot(shap_values, X[::200], feature_names=features)"
      ],
      "metadata": {
        "colab": {
          "base_uri": "https://localhost:8080/",
          "height": 637
        },
        "id": "wyW47ovPYqtP",
        "outputId": "34bc7caa-8f54-468d-9b87-2678afb85be9"
      },
      "execution_count": null,
      "outputs": [
        {
          "output_type": "display_data",
          "data": {
            "text/plain": [
              "<Figure size 800x630 with 1 Axes>"
            ],
            "image/png": "[encoded data removed]"
          },
          "metadata": {}
        }
      ]
    },
    {
      "cell_type": "markdown",
      "source": [
        "####Above plot referenced for Hypothesis 1 and Hypothesis 2"
      ],
      "metadata": {
        "id": "Fh5HtWTZwhR8"
      }
    },
    {
      "cell_type": "markdown",
      "source": [
        "# Hypothesis 1: Family violence will be more common in the winter\n"
      ],
      "metadata": {
        "id": "_krQXQoDGFtd"
      }
    },
    {
      "cell_type": "markdown",
      "source": [
        "#### From the mean(|SHAP value|) plot, which plots every features' average impact on model prediction, it appears that the **Occurred Month** feature does not have a significant impact on predicting if a given report includes family violence. Since the month in which a report is filed does not have a significant impact on the probability of the report involving family violence, the season in which the report is filed also does not have a significant impact on the probability of the report involving family violence. Hence, the hypothesis: **family violence will be more common in the winter** is false."
      ],
      "metadata": {
        "id": "mpah3bMSanmy"
      }
    },
    {
      "cell_type": "markdown",
      "source": [
        "# Hypothesis 2: Family violence will occur more in areas away from the city"
      ],
      "metadata": {
        "id": "-nP8qr9LdCF9"
      }
    },
    {
      "cell_type": "markdown",
      "source": [
        "#### From the mean(|SHAP value|) plot, which plots every features' average impact on model prediction, it appears that the **Latitude** and **Longitude** features do not have a significant impact on predicting if a given report includes family violence. Since the **Latitude** and **Longitude** features do not have a significant impact on predicting if a given report includes family violence, the cartisian/geographic location that an incident occurs at with respect to the \"city\" of Austin does not have a significant impact on predicting if a given report includes family violence. Hence, the hypothesis: **Family violence will occur more in areas away from the city** is false."
      ],
      "metadata": {
        "id": "zzVVe5HWdyMT"
      }
    },
    {
      "cell_type": "markdown",
      "source": [
        "# Hypothesis 3: Family violence will be more common in residential areas"
      ],
      "metadata": {
        "id": "ZboRe6rFdyrv"
      }
    },
    {
      "cell_type": "markdown",
      "source": [
        "View all location types"
      ],
      "metadata": {
        "id": "ABcn6GSjwBBf"
      }
    },
    {
      "cell_type": "code",
      "source": [
        "# See all location types\n",
        "locationTypes = locationTypeKey.keys()\n",
        "locationTypeStr = \"\"\n",
        "for locationType in locationTypes:\n",
        "  locationTypeStr += locationType + \"\\n\"\n",
        "print(locationTypeStr)"
      ],
      "metadata": {
        "colab": {
          "base_uri": "https://localhost:8080/"
        },
        "id": "Oeyp2ekKdibW",
        "outputId": "cd47a992-1e94-4d56-cffa-b4af044c245b"
      },
      "execution_count": null,
      "outputs": [
        {
          "output_type": "stream",
          "name": "stdout",
          "text": [
            "PARKING /DROP LOT/ GARAGE\n",
            "HWY / ROAD / ALLEY/ STREET/ SIDEWALK\n",
            "HOTEL / MOTEL / ETC.\n",
            "RESIDENCE / HOME\n",
            "AIR / BUS / TRAIN TERMINAL\n",
            "DRUG STORE / DOCTOR'S OFFICE / HOSPITAL\n",
            "CONVENIENCE STORE\n",
            "OTHER / UNKNOWN\n",
            "PARK / PLAYGROUND\n",
            "SPECIALTY  STORE\n",
            "COMMUNITY CENTER\n",
            "SERVICE/ GAS STATION\n",
            "COMMERCIAL / OFFICE BUILDING\n",
            "DEPARTMENT / DISCOUNT STORE\n",
            "GROCERY / SUPERMARKET\n",
            "BANK / SAVINGS & LOAN\n",
            "CONSTRUCTION SITE\n",
            "SHOPPING MALL\n",
            "BAR / NIGHTCLUB\n",
            "AMUSEMENT PARK\n",
            "RESTAURANT\n",
            "RENTAL STORAGE FACILITY\n",
            "AUTO DEALERSHIP NEW / USED\n",
            "DAYCARE FACILITY\n",
            "ATM SEPARATE FROM BANK\n",
            "DOCK / WHARF / FREIGHT / MODAL TERMINAL\n",
            "GOVERNMENT / PUBLIC BUILDING\n",
            "LIQUOR STORE\n",
            "LAKE / WATERWAY/BEACH\n",
            "CHURCH / SYNAGOGUE / TEMPLE / MOSQUE\n",
            "SCHOOL - ELEMENTARY / SECONDARY\n",
            "FIELD / WOODS\n",
            "GAMBLING FACILITY / CASINO / RACE TRACK\n",
            "ARENA / STADIUM / FAIRGROUNDS / COLISEUM\n",
            "INDUSTRIAL SITE\n",
            "JAIL / PRISON/PENITENTIARY/CORRECTIONS FACILITY\n",
            "SCHOOL - COLLEGE / UNIVERSITY\n",
            "SHELTER-MISSION / HOMELESS\n",
            "CAMP / CAMPGROUND\n",
            "ABANDONED/CONDEMNED STRUCTURE\n",
            "FARM FACILITY\n",
            "REST AREA\n",
            "SCHOOL/COLLEGE\n",
            "\n"
          ]
        }
      ]
    },
    {
      "cell_type": "markdown",
      "source": [
        "View encoding for RESIDENCE / HOME location type"
      ],
      "metadata": {
        "id": "mXxLNE4rwDve"
      }
    },
    {
      "cell_type": "code",
      "source": [
        "# See encodings for residential area(s)\n",
        "residence = \"RESIDENCE / HOME\"\n",
        "print(f\"Encoding for RESIDENCE / HOME is {locationTypeKey[residence]}\")"
      ],
      "metadata": {
        "colab": {
          "base_uri": "https://localhost:8080/"
        },
        "id": "AG-7ftrqg9OI",
        "outputId": "13b9710a-4150-4799-d3a5-f587b06a1788"
      },
      "execution_count": null,
      "outputs": [
        {
          "output_type": "stream",
          "name": "stdout",
          "text": [
            "Encoding for RESIDENCE / HOME is 3\n"
          ]
        }
      ]
    },
    {
      "cell_type": "markdown",
      "source": [
        "Find the percentage of incidents that involve family violence per location type."
      ],
      "metadata": {
        "id": "Fcb2XYNswJH3"
      }
    },
    {
      "cell_type": "code",
      "source": [
        "def ratioFamilyViolence(locationType):\n",
        "  relevantData = data[data[\"Category Description Encoded\"] == locationType]\n",
        "  relevantDataFamilyViolence = relevantData[relevantData[\"Family Violence(0, 1)\"]==1]\n",
        "  if relevantData.shape[0] == 0:\n",
        "    pass\n",
        "  else:\n",
        "    ratio = relevantDataFamilyViolence.shape[0] / relevantData.shape[0]\n",
        "    return ratio\n",
        "\n",
        "def removeNone(lst):\n",
        "  floatLst = []\n",
        "  for item in lst:\n",
        "    if isinstance(item[-1], float):\n",
        "      floatLst.append(item)\n",
        "  return floatLst\n",
        "\n",
        "\n",
        "def mySort(lst):\n",
        "  for i in range(len(lst)):\n",
        "    for j in range(i+1, len(lst)):\n",
        "      if lst[i][-1] < lst[j][-1]:\n",
        "        lst[i], lst[j] = lst[j], lst[i]\n",
        "  return lst\n",
        "\n",
        "locationTypeList = list(locationTypeKey.keys())\n",
        "ratioList = []\n",
        "for i in range(len(locationTypeList)):\n",
        "  familyViolenceRatio = ratioFamilyViolence(i)\n",
        "  ratioList.append([locationTypeList[i], familyViolenceRatio])\n",
        "ratioList = removeNone(ratioList)\n",
        "ratioList = mySort(ratioList)\n",
        "print(ratioList)"
      ],
      "metadata": {
        "colab": {
          "base_uri": "https://localhost:8080/"
        },
        "id": "BQo5_kXMlMYL",
        "outputId": "b200ae74-a689-4cf9-dec6-528620985818"
      },
      "execution_count": null,
      "outputs": [
        {
          "output_type": "stream",
          "name": "stdout",
          "text": [
            "[['CONVENIENCE STORE', 0.75], ['HOTEL / MOTEL / ETC.', 0.41777689401471463], [\"DRUG STORE / DOCTOR'S OFFICE / HOSPITAL\", 0.23529411764705882], ['AIR / BUS / TRAIN TERMINAL', 0.007792207792207792], ['RESIDENCE / HOME', 0.0029658284977433914], ['HWY / ROAD / ALLEY/ STREET/ SIDEWALK', 0.0025435386332373017], ['PARKING /DROP LOT/ GARAGE', 0.001206140350877193]]\n"
          ]
        }
      ]
    },
    {
      "cell_type": "markdown",
      "source": [
        "Create horizontal bar plot to visualize which location types have the highest percentage of family violence in their reports"
      ],
      "metadata": {
        "id": "Gbv0QkmMwTb1"
      }
    },
    {
      "cell_type": "code",
      "source": [
        "areaNames = [values[0] for values in ratioList]\n",
        "familyViolenceInAreas = [values[-1] for values in ratioList]\n",
        "\n",
        "areaNames = areaNames[::-1]\n",
        "familyViolenceInAreas = familyViolenceInAreas[::-1]\n",
        "\n",
        "plt.barh(areaNames, familyViolenceInAreas);\n",
        "plt.title(\"7 Most Common Areas for Family Violence\")\n",
        "plt.xlabel(\"Percentage of Reports that involve Family Violence\");\n",
        "print(f\"RESIDENCE / HOME percentage of cases with Family Violence {round(familyViolenceInAreas[2], 6)}%\")"
      ],
      "metadata": {
        "colab": {
          "base_uri": "https://localhost:8080/",
          "height": 489
        },
        "id": "TU0AmDrkpfzC",
        "outputId": "4b485288-a32e-448f-ae28-09937151e57e"
      },
      "execution_count": null,
      "outputs": [
        {
          "output_type": "stream",
          "name": "stdout",
          "text": [
            "RESIDENCE / HOME percentage of cases with Family Violence 0.002966%\n"
          ]
        },
        {
          "output_type": "display_data",
          "data": {
            "text/plain": [
              "<Figure size 640x480 with 1 Axes>"
            ],
            "image/png": "[encoded data removed]"
          },
          "metadata": {}
        }
      ]
    },
    {
      "cell_type": "markdown",
      "source": [
        "#### The horizontal bar plot above displays the percentage of cases, per location type, that involve family violence for the 7 most common areas for family violence. Since, only 0.002966% of the incidents that occurred at the RESIDENCE / HOME location involved family violence, family violence does not seem to be more common in residential areas when compared to locations where a significant percentage of the incidents involve family violence such as: DRUG STORE / DOCTOR'S OFFICE / HOSPITAL, HOTEL / MOTEL / ETC. -, and CONVENIENCE STORE. Hence, our hypothesis, **Family violence will be more common in residential areas**, is false."
      ],
      "metadata": {
        "id": "VZpK5igZup9J"
      }
    },
    {
      "cell_type": "markdown",
      "source": [
        "# Hypothesis 4: Incidents involving rape will be less likely to include family violence"
      ],
      "metadata": {
        "id": "apoJduoOvyhx"
      }
    },
    {
      "cell_type": "markdown",
      "source": [
        "View encoding for rape in **Category Description** column of data"
      ],
      "metadata": {
        "id": "EMtyHVCo1bJ-"
      }
    },
    {
      "cell_type": "code",
      "source": [
        "categoryDiscriptionKey"
      ],
      "metadata": {
        "colab": {
          "base_uri": "https://localhost:8080/"
        },
        "id": "LI3ydK1_vxy6",
        "outputId": "b4c46701-6ee4-4ab3-e234-c2db6d34c0e5"
      },
      "execution_count": null,
      "outputs": [
        {
          "output_type": "execute_result",
          "data": {
            "text/plain": [
              "{'Auto Theft': 0,\n",
              " 'Theft': 1,\n",
              " 'Aggravated Assault': 2,\n",
              " 'Burglary': 3,\n",
              " 'Robbery': 4,\n",
              " 'Murder': 5,\n",
              " 'Rape': 6}"
            ]
          },
          "metadata": {},
          "execution_count": 106
        }
      ]
    },
    {
      "cell_type": "markdown",
      "source": [
        "Create visualization to view percentage of reports that involve rape and family violence vs percentage of reports that involve rape, but not family violence."
      ],
      "metadata": {
        "id": "PU100Mf97Kt-"
      }
    },
    {
      "cell_type": "code",
      "source": [
        "dataFamilyViolence = data[data[\"Family Violence(0, 1)\"] == 1]\n",
        "dataNotFamilyViolence = data[data[\"Family Violence(0, 1)\"] == 0]\n",
        "\n",
        "rRatioFV = dataFamilyViolence[dataFamilyViolence[\"Category Description Encoded\"] == 6].shape[0] / dataFamilyViolence.shape[0]\n",
        "rRatioNotFV = dataNotFamilyViolence[dataNotFamilyViolence[\"Category Description Encoded\"] == 6].shape[0] / dataNotFamilyViolence.shape[0]\n",
        "\n",
        "labels = [\"Involving Family Violence\", \"Not Involving Family Violence\"]\n",
        "values = [rRatioNotFV, rRatioFV]\n",
        "plt.barh(labels, values);\n",
        "plt.xlabel(\"Percentage of Incidents Involving Rape\")\n",
        "plt.title(\"Percentage of Reports that Involve Rape: Incidents w/ Family Violence vs Incidents w/o Family Violence\");\n",
        "print(f\"Percentage of Reports that involve Rape and not Family Violence {format(rRatioNotFV, '.10f')}%\")\n",
        "print(f\"Percentage of Reports that involve Rape and Family Violence {format(rRatioFV, '.10f')}%\")"
      ],
      "metadata": {
        "colab": {
          "base_uri": "https://localhost:8080/",
          "height": 506
        },
        "id": "P9zkp3xgyEU8",
        "outputId": "8db2156b-b61d-42a2-c036-08bdd95f64ee"
      },
      "execution_count": 58,
      "outputs": [
        {
          "output_type": "stream",
          "name": "stdout",
          "text": [
            "Percentage of Reports that involve Rape and not Family Violence 0.0000334476%\n",
            "Percentage of Reports that involve Rape and Family Violence 0.0026420079%\n"
          ]
        },
        {
          "output_type": "display_data",
          "data": {
            "text/plain": [
              "<Figure size 640x480 with 1 Axes>"
            ],
            "image/png": "[encoded data removed]"
          },
          "metadata": {}
        }
      ]
    },
    {
      "cell_type": "markdown",
      "source": [
        "#### The horizontal bar plot above portrays the percentage of reports that involve rape for both instances of family violence and instances without family violence. Since instances of rape without family violence are far more common than instances of rape with family violence, our hypothesis is true. Hence, **Incidents involving rape will be less likely to include family violence**."
      ],
      "metadata": {
        "id": "WJGgnVtK1rF1"
      }
    }
  ]
}